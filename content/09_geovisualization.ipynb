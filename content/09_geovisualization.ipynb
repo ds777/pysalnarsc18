{
 "cells": [
  {
   "cell_type": "markdown",
   "metadata": {},
   "source": [
    "# Choropleth Mapping \n",
    "\n",
    "\n",
    "\n",
    "## Introduction\n",
    "\n",
    "When PySAL was originally planned, the intention was to focus on the computational aspects of exploratory spatial data analysis and spatial econometric methods, while relying on existing GIS packages and visualization libraries for visualization of computations. Indeed, we have partnered with [esri](https://geodacenter.asu.edu/arc_pysal) and [QGIS](http://planet.qgis.org/planet/tag/pysal/ ) towards this end.\n",
    "\n",
    "However, over time we have received many requests for supporting basic geovisualization within PySAL so that the step of having to interoperate with an exertnal package can be avoided, thereby increasing the efficiency of the spatial analytical workflow.\n",
    "\n",
    "In this notebook, we demonstrate several approaches towards a particular subset of geovisualization methods, namely **choropleth maps**. We start with  a self-contained exploratory workflow where no other dependencies beyond PySAL are required. The idea here is to support quick generation of different views of your data to complement the statistical and econometric work in PySAL. Once your work has progressed to the publication stage, we point you to resources that can be used for publication quality output.\n",
    "\n",
    "We then move on to consider three other packages that can be used in conjunction with PySAL for choropleth mapping:\n",
    "\n",
    "- geopandas\n",
    "- folium\n",
    "- cartopy\n",
    "- bokeh\n",
    "\n",
    "\n",
    "\n"
   ]
  },
  {
   "cell_type": "markdown",
   "metadata": {},
   "source": [
    "## PySAL Viz Module"
   ]
  },
  {
   "cell_type": "markdown",
   "metadata": {},
   "source": [
    "The  mapping module in PySAL is organized around three main layers:\n",
    "\n",
    "- A lower-level layer that reads polygon, line and point shapefiles and returns a Matplotlib collection.\n",
    "- A medium-level layer that performs some usual transformations on a Matplotlib object (e.g. color code polygons according to a vector of values).\n",
    "- A higher-level layer intended for end-users for particularly useful cases and style preferences pre-defined (e.g. Create a choropleth)."
   ]
  },
  {
   "cell_type": "code",
   "execution_count": 2,
   "metadata": {},
   "outputs": [
    {
     "name": "stderr",
     "output_type": "stream",
     "text": [
      "/Users/Carlos/opt/anaconda3/envs/workshop18/lib/python3.6/site-packages/pysal/explore/segregation/network/network.py:16: UserWarning: You need pandana and urbanaccess to work with segregation's network module\n",
      "You can install them with  `pip install urbanaccess pandana` or `conda install -c udst pandana urbanaccess`\n",
      "  \"You need pandana and urbanaccess to work with segregation's network module\\n\"\n",
      "/Users/Carlos/opt/anaconda3/envs/workshop18/lib/python3.6/site-packages/pysal/model/spvcm/abstracts.py:10: UserWarning: The `dill` module is required to use the sqlite backend fully.\n",
      "  from .sqlite import head_to_sql, start_sql\n"
     ]
    },
    {
     "ename": "ModuleNotFoundError",
     "evalue": "No module named 'pysal.contrib'",
     "output_type": "error",
     "traceback": [
      "\u001b[0;31m---------------------------------------------------------------------------\u001b[0m",
      "\u001b[0;31mModuleNotFoundError\u001b[0m                       Traceback (most recent call last)",
      "\u001b[0;32m<ipython-input-2-1df77eea5af6>\u001b[0m in \u001b[0;36m<module>\u001b[0;34m\u001b[0m\n\u001b[1;32m      3\u001b[0m \u001b[0;32mimport\u001b[0m \u001b[0mpysal\u001b[0m \u001b[0;32mas\u001b[0m \u001b[0mps\u001b[0m\u001b[0;34m\u001b[0m\u001b[0;34m\u001b[0m\u001b[0m\n\u001b[1;32m      4\u001b[0m \u001b[0;32mimport\u001b[0m \u001b[0mrandom\u001b[0m \u001b[0;32mas\u001b[0m \u001b[0mrdm\u001b[0m\u001b[0;34m\u001b[0m\u001b[0;34m\u001b[0m\u001b[0m\n\u001b[0;32m----> 5\u001b[0;31m \u001b[0;32mfrom\u001b[0m \u001b[0mpysal\u001b[0m\u001b[0;34m.\u001b[0m\u001b[0mcontrib\u001b[0m\u001b[0;34m.\u001b[0m\u001b[0mviz\u001b[0m \u001b[0;32mimport\u001b[0m \u001b[0mmapping\u001b[0m \u001b[0;32mas\u001b[0m \u001b[0mmaps\u001b[0m\u001b[0;34m\u001b[0m\u001b[0;34m\u001b[0m\u001b[0m\n\u001b[0m\u001b[1;32m      6\u001b[0m \u001b[0;32mfrom\u001b[0m \u001b[0mpylab\u001b[0m \u001b[0;32mimport\u001b[0m \u001b[0;34m*\u001b[0m\u001b[0;34m\u001b[0m\u001b[0;34m\u001b[0m\u001b[0m\n",
      "\u001b[0;31mModuleNotFoundError\u001b[0m: No module named 'pysal.contrib'"
     ]
    }
   ],
   "source": [
    "%matplotlib inline\n",
    "import numpy as np\n",
    "import pysal as ps\n",
    "import random as rdm\n",
    "from pysal.contrib.viz import mapping as maps\n",
    "from pylab import *"
   ]
  },
  {
   "cell_type": "markdown",
   "metadata": {},
   "source": [
    "### Lower-level component\n",
    "\n",
    "This includes basic functionality to read spatial data from a file (currently only shapefiles supported) and produce rudimentary Matplotlib objects. The main methods are:\n",
    "\n",
    "- map_poly_shape: to read in polygon shapefiles\n",
    "- map_line_shape: to read in line shapefiles\n",
    "- map_point_shape: to read in point shapefiles\n",
    "\n",
    "These methods all support an option to subset the observations to be plotted (very useful when missing values are present). They can also be overlaid and combined by using the `setup_ax` function. the resulting object is very basic but also very flexible so, for minds used to matplotlib this should be good news as it allows to modify pretty much any property and attribute."
   ]
  },
  {
   "cell_type": "markdown",
   "metadata": {},
   "source": [
    "#### Example"
   ]
  },
  {
   "cell_type": "code",
   "execution_count": null,
   "metadata": {},
   "outputs": [],
   "source": [
    "shp_link = 'data/texas.shp'\n",
    "shp = ps.open(shp_link)\n",
    "some = [bool(rdm.getrandbits(1)) for i in ps.open(shp_link)]\n",
    "\n",
    "fig = figure(figsize=(9,9))\n",
    "\n",
    "base = maps.map_poly_shp(shp)\n",
    "base.set_facecolor('none')\n",
    "base.set_linewidth(0.75)\n",
    "base.set_edgecolor('0.8')\n",
    "some = maps.map_poly_shp(shp, which=some)\n",
    "some.set_alpha(0.5)\n",
    "some.set_linewidth(0.)\n",
    "cents = np.array([poly.centroid for poly in ps.open(shp_link)])\n",
    "pts = scatter(cents[:, 0], cents[:, 1])\n",
    "pts.set_color('red')\n",
    "\n",
    "ax = maps.setup_ax([base, some, pts], [shp.bbox, shp.bbox, shp.bbox])\n",
    "fig.add_axes(ax)\n",
    "show()"
   ]
  },
  {
   "cell_type": "markdown",
   "metadata": {},
   "source": [
    "### Medium-level component\n",
    "\n",
    "This layer comprises functions that perform usual transformations on matplotlib objects, such as color coding objects (points, polygons, etc.) according to a series of values. This includes the following methods:\n",
    "\n",
    "- `base_choropleth_classless`\n",
    "- `base_choropleth_unique`\n",
    "- `base_choropleth_classif`\n",
    "\n",
    "#### Example"
   ]
  },
  {
   "cell_type": "code",
   "execution_count": null,
   "metadata": {},
   "outputs": [],
   "source": [
    "net_link = ps.examples.get_path('eberly_net.shp')\n",
    "net = ps.open(net_link)\n",
    "values = np.array(ps.open(net_link.replace('.shp', '.dbf')).by_col('TNODE'))\n",
    "\n",
    "pts_link = ps.examples.get_path('eberly_net_pts_onnetwork.shp')\n",
    "pts = ps.open(pts_link)\n",
    "\n",
    "fig = figure(figsize=(9,9))\n",
    "\n",
    "netm = maps.map_line_shp(net)\n",
    "netc = maps.base_choropleth_unique(netm, values)\n",
    "\n",
    "ptsm = maps.map_point_shp(pts)\n",
    "ptsm = maps.base_choropleth_classif(ptsm, values)\n",
    "ptsm.set_alpha(0.5)\n",
    "ptsm.set_linewidth(0.)\n",
    "\n",
    "ax = maps.setup_ax([netc, ptsm], [net.bbox, net.bbox])\n",
    "fig.add_axes(ax)\n",
    "show()"
   ]
  },
  {
   "cell_type": "code",
   "execution_count": null,
   "metadata": {},
   "outputs": [],
   "source": [
    "maps.plot_poly_lines('data/texas.shp')"
   ]
  },
  {
   "cell_type": "markdown",
   "metadata": {},
   "source": [
    "### Higher-level component\n",
    "\n",
    "This currently includes the following end-user functions:\n",
    "\n",
    "- `plot_poly_lines`: very quick shapfile plotting"
   ]
  },
  {
   "cell_type": "code",
   "execution_count": null,
   "metadata": {},
   "outputs": [],
   "source": [
    "shp_link = 'data/texas.shp'\n",
    "values = np.array(ps.open('data/texas.dbf').by_col('HR90'))\n",
    "\n",
    "types = ['classless', 'unique_values', 'quantiles', 'equal_interval', 'fisher_jenks']\n",
    "for typ in types:\n",
    "    maps.plot_choropleth(shp_link, values, typ, title=typ)"
   ]
  },
  {
   "cell_type": "markdown",
   "metadata": {},
   "source": [
    "### PySAL Map Classifiers"
   ]
  },
  {
   "cell_type": "code",
   "execution_count": null,
   "metadata": {},
   "outputs": [],
   "source": [
    "hr90 = values\n",
    "hr90q5 = ps.Quantiles(hr90, k=5)\n",
    "hr90q5"
   ]
  },
  {
   "cell_type": "code",
   "execution_count": null,
   "metadata": {},
   "outputs": [],
   "source": [
    "hr90q4 = ps.Quantiles(hr90, k=4)\n",
    "hr90q4"
   ]
  },
  {
   "cell_type": "code",
   "execution_count": null,
   "metadata": {},
   "outputs": [],
   "source": [
    "hr90e5 = ps.Equal_Interval(hr90, k=5)\n",
    "hr90e5"
   ]
  },
  {
   "cell_type": "code",
   "execution_count": null,
   "metadata": {},
   "outputs": [],
   "source": [
    "hr90fj5 = ps.Fisher_Jenks(hr90, k=5)\n",
    "hr90fj5"
   ]
  },
  {
   "cell_type": "code",
   "execution_count": null,
   "metadata": {},
   "outputs": [],
   "source": [
    "hr90fj5.adcm # measure of fit: Absolute deviation around class means"
   ]
  },
  {
   "cell_type": "code",
   "execution_count": null,
   "metadata": {},
   "outputs": [],
   "source": [
    "hr90q5.adcm"
   ]
  },
  {
   "cell_type": "code",
   "execution_count": null,
   "metadata": {},
   "outputs": [],
   "source": [
    "hr90e5.adcm"
   ]
  },
  {
   "cell_type": "code",
   "execution_count": null,
   "metadata": {},
   "outputs": [],
   "source": [
    "hr90fj5.yb[0:10] # what bin each value is placed in"
   ]
  },
  {
   "cell_type": "code",
   "execution_count": null,
   "metadata": {},
   "outputs": [],
   "source": [
    "hr90fj5.bins # upper bounds of each bin"
   ]
  },
  {
   "cell_type": "markdown",
   "metadata": {},
   "source": [
    "## GeoPandas"
   ]
  },
  {
   "cell_type": "code",
   "execution_count": null,
   "metadata": {},
   "outputs": [],
   "source": [
    "import geopandas as gpd\n",
    "shp_link = \"data/texas.shp\"\n",
    "tx = gpd.read_file(shp_link)\n",
    "tx.plot(color='blue')"
   ]
  },
  {
   "cell_type": "code",
   "execution_count": null,
   "metadata": {},
   "outputs": [],
   "source": [
    "type(tx)"
   ]
  },
  {
   "cell_type": "code",
   "execution_count": null,
   "metadata": {},
   "outputs": [],
   "source": [
    "tx.plot(column='HR90', scheme='QUANTILES') # uses pysal classifier under the hood"
   ]
  },
  {
   "cell_type": "code",
   "execution_count": null,
   "metadata": {},
   "outputs": [],
   "source": [
    "tx.plot(column='HR90', scheme='QUANTILES', k=3, cmap='OrRd') # we need a continuous color map"
   ]
  },
  {
   "cell_type": "code",
   "execution_count": null,
   "metadata": {},
   "outputs": [],
   "source": [
    "tx.plot(column='HR90', scheme='QUANTILES', k=5, cmap='OrRd') # bump up to quintiles"
   ]
  },
  {
   "cell_type": "code",
   "execution_count": null,
   "metadata": {},
   "outputs": [],
   "source": [
    "tx.plot(color='green') # explore options, polygon fills"
   ]
  },
  {
   "cell_type": "code",
   "execution_count": null,
   "metadata": {},
   "outputs": [],
   "source": [
    "tx.plot(color='green',linewidth=0) # border"
   ]
  },
  {
   "cell_type": "code",
   "execution_count": null,
   "metadata": {},
   "outputs": [],
   "source": [
    "tx.plot(color='green',linewidth=0.1) # border"
   ]
  },
  {
   "cell_type": "code",
   "execution_count": null,
   "metadata": {},
   "outputs": [],
   "source": [
    "tx.plot(column='HR90', scheme='QUANTILES', k=9, cmap='OrRd') # now with qunatiles"
   ]
  },
  {
   "cell_type": "code",
   "execution_count": null,
   "metadata": {},
   "outputs": [],
   "source": [
    "tx.plot(column='HR90', scheme='QUANTILES', k=5, cmap='OrRd', linewidth=0.1)"
   ]
  },
  {
   "cell_type": "code",
   "execution_count": null,
   "metadata": {},
   "outputs": [],
   "source": [
    "import matplotlib.pyplot as plt # make plot larger\n",
    "\n",
    "f, ax = plt.subplots(1, figsize=(9, 9))\n",
    "tx.plot(column='HR90', scheme='QUANTILES', k=5, cmap='OrRd', linewidth=0.1, ax=ax)\n",
    "ax.set_axis_off()\n",
    "plt.show()"
   ]
  },
  {
   "cell_type": "code",
   "execution_count": null,
   "metadata": {},
   "outputs": [],
   "source": [
    "f, ax = plt.subplots(1, figsize=(9, 9))\n",
    "tx.plot(column='HR90', scheme='QUANTILES', \\\n",
    "        k=6, cmap='OrRd', linewidth=0.1, ax=ax, \\\n",
    "        edgecolor='white')\n",
    "ax.set_axis_off()\n",
    "plt.show()"
   ]
  },
  {
   "cell_type": "code",
   "execution_count": null,
   "metadata": {},
   "outputs": [],
   "source": [
    "f, ax = plt.subplots(1, figsize=(9, 9))\n",
    "tx.plot(column='HR90', scheme='equal_interval', \\\n",
    "        k=6, cmap='OrRd', linewidth=0.1, ax=ax, \\\n",
    "        edgecolor='white')\n",
    "ax.set_axis_off()\n",
    "plt.show()"
   ]
  },
  {
   "cell_type": "code",
   "execution_count": null,
   "metadata": {
    "scrolled": true
   },
   "outputs": [],
   "source": [
    "# try deciles\n",
    "f, ax = plt.subplots(1, figsize=(9, 9))\n",
    "tx.plot(column='HR90', scheme='QUANTILES', k=10, cmap='OrRd', linewidth=0.1, ax=ax)\n",
    "ax.set_axis_off()\n",
    "plt.show()"
   ]
  },
  {
   "cell_type": "code",
   "execution_count": null,
   "metadata": {},
   "outputs": [],
   "source": [
    "# ok, let's work around to get deciles\n",
    "q10 = ps.Quantiles(tx.HR90,k=10)\n",
    "q10.bins"
   ]
  },
  {
   "cell_type": "code",
   "execution_count": null,
   "metadata": {},
   "outputs": [],
   "source": [
    "q10.yb"
   ]
  },
  {
   "cell_type": "code",
   "execution_count": null,
   "metadata": {},
   "outputs": [],
   "source": [
    "f, ax = plt.subplots(1, figsize=(9, 9))\n",
    "tx.assign(cl=q10.yb).plot(column='cl', categorical=True, \\\n",
    "        k=10, cmap='OrRd', linewidth=0.1, ax=ax, \\\n",
    "        edgecolor='white', legend=True)\n",
    "ax.set_axis_off()\n",
    "plt.show()"
   ]
  },
  {
   "cell_type": "code",
   "execution_count": null,
   "metadata": {},
   "outputs": [],
   "source": [
    "fj10 = ps.Fisher_Jenks(tx.HR90,k=10)\n",
    "fj10.bins\n",
    "#labels = [\"%0.1f\"%l for l in fj10.bins]\n",
    "#labels\n",
    "f, ax = plt.subplots(1, figsize=(9, 9))\n",
    "tx.assign(cl=fj10.yb).plot(column='cl', categorical=True, \\\n",
    "        k=10, cmap='OrRd', linewidth=0.1, ax=ax, \\\n",
    "        edgecolor='white', legend=True)\n",
    "ax.set_axis_off()\n",
    "plt.show()"
   ]
  },
  {
   "cell_type": "code",
   "execution_count": null,
   "metadata": {},
   "outputs": [],
   "source": [
    "fj10.adcm"
   ]
  },
  {
   "cell_type": "code",
   "execution_count": null,
   "metadata": {},
   "outputs": [],
   "source": [
    "q10.adcm"
   ]
  },
  {
   "cell_type": "code",
   "execution_count": null,
   "metadata": {},
   "outputs": [],
   "source": [
    "q5 = ps.Quantiles(tx.HR90,k=5)\n"
   ]
  },
  {
   "cell_type": "code",
   "execution_count": null,
   "metadata": {},
   "outputs": [],
   "source": [
    "f, ax = plt.subplots(1, figsize=(9, 9))\n",
    "tx.assign(cl=q5.yb).plot(column='cl', categorical=True, \\\n",
    "        k=10, cmap='OrRd', linewidth=0.1, ax=ax, \\\n",
    "        edgecolor='white', legend=True)\n",
    "ax.set_axis_off()\n",
    "plt.show()"
   ]
  },
  {
   "cell_type": "markdown",
   "metadata": {},
   "source": [
    "## Folium\n",
    "\n",
    "In addition to using matplotlib, the viz module includes components that interface with the [folium](http://folium.readthedocs.io/en/latest/) library which provides a Pythonic way to generate [Leaflet](http://leafletjs.com/) maps.\n"
   ]
  },
  {
   "cell_type": "code",
   "execution_count": null,
   "metadata": {},
   "outputs": [],
   "source": [
    "import pysal as ps\n",
    "import geojson as gj\n",
    "from pysal.contrib.viz import folium_mapping as fm"
   ]
  },
  {
   "cell_type": "markdown",
   "metadata": {},
   "source": [
    "First, we need to convert the data into a JSON format. JSON, short for \"Javascript Serialized Object Notation,\" is a simple and effective way to represent objects in a digital environment. For geographic information, the [GeoJSON](https://geojson.org) standard defines how to represent geographic information in JSON format. Python programmers may be more comfortable thinking of JSON data as something akin to a standard Python dictionary. "
   ]
  },
  {
   "cell_type": "code",
   "execution_count": null,
   "metadata": {},
   "outputs": [],
   "source": [
    "filepath = 'data/texas.shp'[:-4]\n",
    "shp = ps.open(filepath + '.shp')\n",
    "dbf = ps.open(filepath + '.dbf')"
   ]
  },
  {
   "cell_type": "code",
   "execution_count": null,
   "metadata": {},
   "outputs": [],
   "source": [
    "js = fm.build_features(shp, dbf)"
   ]
  },
  {
   "cell_type": "markdown",
   "metadata": {},
   "source": [
    "Just to show, this constructs a dictionary with the following keys:"
   ]
  },
  {
   "cell_type": "code",
   "execution_count": null,
   "metadata": {},
   "outputs": [],
   "source": [
    "js.keys()"
   ]
  },
  {
   "cell_type": "code",
   "execution_count": null,
   "metadata": {},
   "outputs": [],
   "source": [
    "js.type"
   ]
  },
  {
   "cell_type": "code",
   "execution_count": null,
   "metadata": {},
   "outputs": [],
   "source": [
    "js.bbox"
   ]
  },
  {
   "cell_type": "code",
   "execution_count": null,
   "metadata": {},
   "outputs": [],
   "source": [
    "js.features[0]"
   ]
  },
  {
   "cell_type": "markdown",
   "metadata": {},
   "source": [
    "Then, we write the json to a file:"
   ]
  },
  {
   "cell_type": "code",
   "execution_count": null,
   "metadata": {},
   "outputs": [],
   "source": [
    "with open('./example.json', 'w') as out:\n",
    "    gj.dump(js, out)"
   ]
  },
  {
   "cell_type": "markdown",
   "metadata": {},
   "source": [
    "### Mapping\n",
    "Let's look at the columns that we are going to map."
   ]
  },
  {
   "cell_type": "code",
   "execution_count": null,
   "metadata": {},
   "outputs": [],
   "source": [
    "list(js.features[0].properties.keys())[:5]"
   ]
  },
  {
   "cell_type": "markdown",
   "metadata": {},
   "source": [
    "We can map these attributes by calling them as arguments to the choropleth mapping function:"
   ]
  },
  {
   "cell_type": "code",
   "execution_count": null,
   "metadata": {},
   "outputs": [],
   "source": [
    "fm.choropleth_map?"
   ]
  },
  {
   "cell_type": "code",
   "execution_count": null,
   "metadata": {},
   "outputs": [],
   "source": [
    "# folium maps have been turned off for creating gitbook. \n",
    "# to run them, uncomment.\n",
    "fm.choropleth_map('./example.json', 'FIPS', 'HR90',zoom_start=6)"
   ]
  },
  {
   "cell_type": "markdown",
   "metadata": {},
   "source": [
    "This produces a map using default classifications and color schemes and saves it to an html file. We set the function to have sane defaults. However, if the user wants to have more control, we have many options available. "
   ]
  },
  {
   "cell_type": "markdown",
   "metadata": {},
   "source": [
    "There are arguments to change the classification scheme:"
   ]
  },
  {
   "cell_type": "code",
   "execution_count": null,
   "metadata": {},
   "outputs": [],
   "source": [
    "# folium maps have been turned off for creating gitbook. \n",
    "# to run them, uncomment.\n",
    "fm.choropleth_map('./example.json', 'FIPS', 'HR90', classification = 'Quantiles',classes=4)"
   ]
  },
  {
   "cell_type": "markdown",
   "metadata": {},
   "source": [
    "Most PySAL classifiers are supported.\n",
    "\n",
    "### Base Map Type\n",
    "\n"
   ]
  },
  {
   "cell_type": "code",
   "execution_count": null,
   "metadata": {},
   "outputs": [],
   "source": [
    "# folium maps have been turned off for creating gitbook. \n",
    "# to run them, uncomment.\n",
    "fm.choropleth_map('./example.json', 'FIPS', 'HR90', classification = 'Jenks Caspall', \\\n",
    "                  tiles='Stamen Toner',zoom_start=6, save=True) "
   ]
  },
  {
   "cell_type": "markdown",
   "metadata": {},
   "source": [
    "We support the entire range of builtin basemap types in Folium, but custom tilesets from MapBox are not supported (yet).\n",
    " \n",
    "### Color Scheme"
   ]
  },
  {
   "cell_type": "code",
   "execution_count": null,
   "metadata": {},
   "outputs": [],
   "source": [
    "# folium maps have been turned off for creating gitbook. \n",
    "# to run them, uncomment.\n",
    "\n",
    "fm.choropleth_map('./example.json', 'FIPS', 'HR80', classification = 'Jenks Caspall', \\\n",
    "                 tiles='Stamen Toner', fill_color = 'PuBuGn', save=True) "
   ]
  },
  {
   "cell_type": "markdown",
   "metadata": {},
   "source": [
    "All color schemes are [Color Brewer](http://colorbrewer2.org) and simply pass through to `Folium` on execution. "
   ]
  },
  {
   "cell_type": "markdown",
   "metadata": {},
   "source": [
    "Folium supports up to 6 classes."
   ]
  },
  {
   "cell_type": "markdown",
   "metadata": {},
   "source": [
    "## Cartopy\n",
    "\n",
    "Next we turn to [cartopy](http://scitools.org.uk/cartopy/)."
   ]
  },
  {
   "cell_type": "code",
   "execution_count": null,
   "metadata": {},
   "outputs": [],
   "source": [
    "import matplotlib.patches as mpatches\n",
    "import matplotlib.pyplot as plt\n",
    "import cartopy.crs as ccrs\n",
    "import cartopy.io.shapereader as shpreader\n",
    "\n",
    "reader = shpreader.Reader(\"data/texas.shp\")"
   ]
  },
  {
   "cell_type": "code",
   "execution_count": null,
   "metadata": {},
   "outputs": [],
   "source": [
    "def choropleth(classes, colors, reader, legend=None, title=None, fileName=None, dpi=600):\n",
    "    ax = plt.axes([0,0,1,1], projection=ccrs.LambertConformal())\n",
    "    ax.set_extent([-108, -93, 38, 24], ccrs.Geodetic())\n",
    "    ax.background_patch.set_visible(False)\n",
    "    ax.outline_patch.set_visible(False)\n",
    "    if title:\n",
    "        plt.title(title)\n",
    "    ax.set_extent([-108, -93, 38, 24], ccrs.Geodetic())\n",
    "    ax.background_patch.set_visible(False)\n",
    "    ax.outline_patch.set_visible(False)\n",
    "    \n",
    "    for i,state in enumerate(reader.geometries()):\n",
    "        facecolor = colors[classes[i]]\n",
    "        #facecolor = 'red'\n",
    "        edgecolor = 'black'\n",
    "        ax.add_geometries([state], ccrs.PlateCarree(), \n",
    "                         facecolor=facecolor, edgecolor=edgecolor)\n",
    "        \n",
    "    leg = [ mpatches.Rectangle((0,0),1,1, facecolor=color) for color in colors]\n",
    "    if legend:\n",
    "        plt.legend(leg, legend, loc='lower left', bbox_to_anchor=(0.025, -0.1), fancybox=True)\n",
    "    if fileName:\n",
    "        plt.savefig(fileName, dpi=dpi)\n",
    "    plt.show()"
   ]
  },
  {
   "cell_type": "code",
   "execution_count": null,
   "metadata": {},
   "outputs": [],
   "source": [
    "HR90 = values"
   ]
  },
  {
   "cell_type": "code",
   "execution_count": null,
   "metadata": {},
   "outputs": [],
   "source": [
    "bins_q5 = ps.Quantiles(HR90, k=5)"
   ]
  },
  {
   "cell_type": "code",
   "execution_count": null,
   "metadata": {},
   "outputs": [],
   "source": [
    "bwr = plt.cm.get_cmap('Reds')\n",
    "bwr(.76)\n",
    "c5 = [bwr(c) for c in [0.2, 0.4, 0.6, 0.7, 1.0]]\n",
    "classes = bins_q5.yb\n",
    "choropleth(classes, c5, reader)"
   ]
  },
  {
   "cell_type": "code",
   "execution_count": null,
   "metadata": {},
   "outputs": [],
   "source": [
    "choropleth(classes, c5, reader, title=\"HR90 Quintiles\")"
   ]
  },
  {
   "cell_type": "code",
   "execution_count": null,
   "metadata": {},
   "outputs": [],
   "source": [
    "legend =[ \"%3d\"%ub for ub in bins_q5.bins]\n",
    "choropleth(classes, c5, reader, legend, title=\"HR90 Quintiles\")"
   ]
  },
  {
   "cell_type": "code",
   "execution_count": null,
   "metadata": {},
   "outputs": [],
   "source": [
    "def choropleth(classes, colors, reader, legend=None, title=None, fileName=None, dpi=600):\n",
    "    f, ax = plt.subplots(1, figsize=(9,9))\n",
    "    ax.get_xaxis().set_visible(False)\n",
    "    ax.get_yaxis().set_visible(False)\n",
    "    ax.axison=False\n",
    "    \n",
    "    ax = plt.axes([0,0,1,1], projection=ccrs.LambertConformal())\n",
    "    ax.set_extent([-108, -93, 38, 24], ccrs.Geodetic())\n",
    "    ax.background_patch.set_visible(False)\n",
    "    ax.outline_patch.set_visible(False)\n",
    "    if title:\n",
    "        plt.title(title)\n",
    "    ax.set_extent([-108, -93, 38, 24], ccrs.Geodetic())\n",
    "    ax.background_patch.set_visible(False)\n",
    "    ax.outline_patch.set_visible(False)\n",
    "    for i,state in enumerate(reader.geometries()):\n",
    "        facecolor = colors[classes[i]]\n",
    "        #facecolor = 'red'\n",
    "        edgecolor = 'black'\n",
    "        ax.add_geometries([state], ccrs.PlateCarree(), \n",
    "                         facecolor=facecolor, edgecolor=edgecolor)\n",
    "    \n",
    "        \n",
    "    leg = [ mpatches.Rectangle((0,0),1,1, facecolor=color) for color in colors]\n",
    "    if legend:\n",
    "        plt.legend(leg, legend, loc='lower left', bbox_to_anchor=(0.025, -0.1), fancybox=True)\n",
    "    if fileName:\n",
    "        plt.savefig(fileName, dpi=dpi)\n",
    "    #ax.set_axis_off()\n",
    "    plt.show()\n",
    "\n",
    "legend =[ \"%3d\"%ub for ub in bins_q5.bins]\n",
    "choropleth(classes, c5, reader, legend, title=\"HR90 Quintiles\")"
   ]
  },
  {
   "cell_type": "code",
   "execution_count": null,
   "metadata": {},
   "outputs": [],
   "source": [
    "legend =[ \"%3d\"%ub for ub in bins_q5.bins]\n",
    "choropleth(classes, c5, reader, legend, title=\"HR90 Quintiles\")"
   ]
  },
  {
   "cell_type": "code",
   "execution_count": null,
   "metadata": {},
   "outputs": [],
   "source": [
    "def choropleth(classes, colors, reader, legend=None, title=None, fileName=None, dpi=600):\n",
    "    f, ax = plt.subplots(1, figsize=(9,9), frameon=False)\n",
    "    ax.get_xaxis().set_visible(False)\n",
    "    ax.get_yaxis().set_visible(False)\n",
    "    ax.axison=False\n",
    "    \n",
    "    \n",
    "    ax = plt.axes([0,0,1,1], projection=ccrs.LambertConformal())\n",
    "    ax.set_extent([-108, -93, 38, 24], ccrs.Geodetic())\n",
    "    ax.background_patch.set_visible(False)\n",
    "    ax.outline_patch.set_visible(False)\n",
    "    \n",
    "    if title:\n",
    "        plt.title(title)\n",
    "\n",
    "    for i,state in enumerate(reader.geometries()):\n",
    "        facecolor = colors[classes[i]]\n",
    "        edgecolor = 'white'\n",
    "        ax.add_geometries([state], ccrs.PlateCarree(), \n",
    "                         facecolor=facecolor, edgecolor=edgecolor)\n",
    "    \n",
    "        \n",
    "    leg = [ mpatches.Rectangle((0,0),1,1, facecolor=color) for color in colors]\n",
    "    if legend:\n",
    "        plt.legend(leg, legend, loc='lower left', bbox_to_anchor=(0.025, -0.1), fancybox=True)\n",
    "    if fileName:\n",
    "        plt.savefig(fileName, dpi=dpi)\n",
    "    plt.show()\n",
    "\n",
    "legend =[ \"%3d\"%ub for ub in bins_q5.bins]\n",
    "choropleth(classes, c5, reader, legend, title=\"HR90 Quintiles\")"
   ]
  },
  {
   "cell_type": "markdown",
   "metadata": {},
   "source": [
    "For an example publication and code where Cartopy was used for the mapping see: [Rey (2016)](https://github.com/sjsrey/limaaag)."
   ]
  },
  {
   "cell_type": "markdown",
   "metadata": {},
   "source": [
    "## Bokeh\n",
    "\n",
    "[website](http://bokeh.pydata.org/en/latest/)"
   ]
  },
  {
   "cell_type": "code",
   "execution_count": null,
   "metadata": {},
   "outputs": [],
   "source": [
    "import bokeh\n",
    "bokeh.__version__"
   ]
  },
  {
   "cell_type": "code",
   "execution_count": null,
   "metadata": {},
   "outputs": [],
   "source": [
    "from collections import OrderedDict\n",
    "\n",
    "#from bokeh.sampledata import us_counties, unemployment\n",
    "from bokeh.plotting import figure, show, output_notebook, ColumnDataSource, output_file\n",
    "from bokeh.models import HoverTool\n",
    "\n",
    "#from bokeh.charts import Scatter, output_file, show"
   ]
  },
  {
   "cell_type": "code",
   "execution_count": null,
   "metadata": {},
   "outputs": [],
   "source": [
    "def gpd_bokeh(df):\n",
    "    \"\"\"Convert geometries from geopandas to bokeh format\"\"\"\n",
    "    nan = float('nan')\n",
    "    lons = []\n",
    "    lats = []\n",
    "    for i,shape in enumerate(df.geometry.values):\n",
    "        if shape.geom_type == 'MultiPolygon':\n",
    "            gx = []\n",
    "            gy = []\n",
    "            ng = len(shape.geoms) - 1\n",
    "            for j,member in enumerate(shape.geoms):\n",
    "                xy = np.array(list(member.exterior.coords))\n",
    "                xs = xy[:,0].tolist()\n",
    "                ys = xy[:,1].tolist()\n",
    "                gx.extend(xs)\n",
    "                gy.extend(ys)\n",
    "                if j < ng:\n",
    "                    gx.append(nan)\n",
    "                    gy.append(nan)\n",
    "            lons.append(gx)\n",
    "            lats.append(gy)\n",
    "                \n",
    "        else:     \n",
    "            xy = np.array(list(shape.exterior.coords))\n",
    "            xs = xy[:,0].tolist()\n",
    "            ys = xy[:,1].tolist()\n",
    "            lons.append(xs)\n",
    "            lats.append(ys) \n",
    "\n",
    "    return lons,lats"
   ]
  },
  {
   "cell_type": "code",
   "execution_count": null,
   "metadata": {},
   "outputs": [],
   "source": [
    "lons, lats = gpd_bokeh(tx)"
   ]
  },
  {
   "cell_type": "code",
   "execution_count": null,
   "metadata": {},
   "outputs": [],
   "source": [
    "p = figure(title=\"Texas\", toolbar_location='left',\n",
    "          plot_width=1100, plot_height=700)\n",
    "p.patches(lons, lats, fill_alpha=0.7, #fill_color=state_colors,\n",
    "         line_color=\"#884444\", line_width=2, line_alpha=0.3)\n",
    "output_file('choropleth.html', title=\"choropleth.py example\")\n",
    "show(p)"
   ]
  },
  {
   "cell_type": "code",
   "execution_count": null,
   "metadata": {
    "scrolled": true
   },
   "outputs": [],
   "source": [
    "bwr = plt.cm.get_cmap('Reds')\n",
    "bwr(.76)\n",
    "c5 = [bwr(c) for c in [0.2, 0.4, 0.6, 0.7, 1.0]]\n",
    "classes = bins_q5.yb\n",
    "colors = [c5[i] for i in classes]\n"
   ]
  },
  {
   "cell_type": "code",
   "execution_count": null,
   "metadata": {},
   "outputs": [],
   "source": [
    "colors5 = [\"#F1EEF6\", \"#D4B9DA\", \"#C994C7\", \"#DF65B0\", \"#DD1C77\"]\n",
    "colors = [colors5[i] for i in classes]\n",
    "\n",
    "p = figure(title=\"Texas HR90 Quintiles\", toolbar_location='left',\n",
    "          plot_width=1100, plot_height=700)\n",
    "p.patches(lons, lats, fill_alpha=0.7, fill_color=colors,\n",
    "         line_color=\"#884444\", line_width=2, line_alpha=0.3)\n",
    "output_file('choropleth.html', title=\"choropleth.py example\")\n",
    "show(p)"
   ]
  },
  {
   "cell_type": "markdown",
   "metadata": {},
   "source": [
    "### Hover \n",
    "\n"
   ]
  },
  {
   "cell_type": "code",
   "execution_count": null,
   "metadata": {},
   "outputs": [],
   "source": [
    "from bokeh.models import HoverTool\n",
    "from bokeh.plotting import figure, show, output_file, ColumnDataSource"
   ]
  },
  {
   "cell_type": "code",
   "execution_count": null,
   "metadata": {},
   "outputs": [],
   "source": [
    "source = ColumnDataSource(data=dict(\n",
    "        x=lons,\n",
    "        y=lats,\n",
    "        color=colors,\n",
    "        name=tx.NAME,\n",
    "        rate=HR90\n",
    "    ))\n",
    "\n",
    "TOOLS = \"pan, wheel_zoom, box_zoom, reset, hover, save\"\n",
    "p = figure(title=\"Texas Homicide 1990 (Quintiles)\", tools=TOOLS,\n",
    "          plot_width=900, plot_height=900)\n",
    "\n",
    "p.patches('x', 'y', source=source,\n",
    "         fill_color='color', fill_alpha=0.7,\n",
    "         line_color='white', line_width=0.5)\n",
    "\n",
    "hover = p.select_one(HoverTool)\n",
    "hover.point_policy = 'follow_mouse'\n",
    "hover.tooltips = [\n",
    "    (\"Name\", \"@name\"),\n",
    "    (\"Homicide rate\", \"@rate\"),\n",
    "    (\"(Long, Lat)\", \"($x, $y)\"),\n",
    "]\n",
    "\n",
    "\n",
    "output_file(\"hr90.html\", title=\"hr90.py example\")\n",
    "show(p)"
   ]
  },
  {
   "cell_type": "markdown",
   "metadata": {},
   "source": [
    "## Exercises\n",
    "\n",
    "1. Using Bokeh, use PySALs Fisher Jenks classifier with k=10 to generate a choropleth map of the homicide rates in 1990 for Texas counties. Modify the hover tooltips so that\n",
    "in addition to showing the Homicide rate, the rank of that rate is also shown.\n",
    "2. Explore `ps.esda.mapclassify.` (hint: use tab completion) to select a new classifier (different from the ones in this notebook). Using the same data as in exercise 1, apply this classifier and create a choropleth using Bokeh."
   ]
  },
  {
   "cell_type": "code",
   "execution_count": null,
   "metadata": {},
   "outputs": [],
   "source": []
  },
  {
   "cell_type": "code",
   "execution_count": null,
   "metadata": {},
   "outputs": [],
   "source": []
  },
  {
   "cell_type": "code",
   "execution_count": null,
   "metadata": {},
   "outputs": [],
   "source": []
  },
  {
   "cell_type": "code",
   "execution_count": null,
   "metadata": {},
   "outputs": [],
   "source": []
  },
  {
   "cell_type": "code",
   "execution_count": null,
   "metadata": {},
   "outputs": [],
   "source": []
  },
  {
   "cell_type": "code",
   "execution_count": null,
   "metadata": {},
   "outputs": [],
   "source": []
  },
  {
   "cell_type": "code",
   "execution_count": null,
   "metadata": {},
   "outputs": [],
   "source": []
  },
  {
   "cell_type": "code",
   "execution_count": null,
   "metadata": {},
   "outputs": [],
   "source": []
  },
  {
   "cell_type": "code",
   "execution_count": null,
   "metadata": {},
   "outputs": [],
   "source": []
  },
  {
   "cell_type": "code",
   "execution_count": null,
   "metadata": {},
   "outputs": [],
   "source": []
  },
  {
   "cell_type": "code",
   "execution_count": null,
   "metadata": {},
   "outputs": [],
   "source": []
  },
  {
   "cell_type": "markdown",
   "metadata": {},
   "source": [
    "## Solution"
   ]
  },
  {
   "cell_type": "code",
   "execution_count": null,
   "metadata": {},
   "outputs": [],
   "source": [
    "# Exercise 1\n",
    "fj10 = ps.Fisher_Jenks(HR90, k=10)\n",
    "classes = fj10.yb\n",
    "\n",
    "# palettes from https://github.com/bokeh/bokeh/blob/master/bokeh/palettes.py\n",
    "colors10 =['#000000', '#1c1c1c', '#383838', '#555555', '#717171', '#8d8d8d', '#aaaaaa', '#c6c6c6', '#e2e2e2', '#ffffff']\n",
    "colors = [colors10[9-i] for i in classes] # reverse the colors lighter to darker"
   ]
  },
  {
   "cell_type": "code",
   "execution_count": null,
   "metadata": {},
   "outputs": [],
   "source": [
    "source = ColumnDataSource(data=dict(\n",
    "        x=lons,\n",
    "        y=lats,\n",
    "        color=colors,\n",
    "        name=tx.NAME,\n",
    "        rate=HR90,\n",
    "        classid=classes\n",
    "    ))\n",
    "\n",
    "TOOLS = \"pan, wheel_zoom, box_zoom, reset, hover, save\"\n",
    "p = figure(title=\"Texas Homicide 1990 (Fisher Jenks k=10)\", tools=TOOLS,\n",
    "          plot_width=900, plot_height=900)\n",
    "\n",
    "p.patches('x', 'y', source=source,\n",
    "         fill_color='color', fill_alpha=0.7,\n",
    "         line_color='white', line_width=0.5)\n",
    "\n",
    "hover = p.select_one(HoverTool)\n",
    "hover.point_policy = 'follow_mouse'\n",
    "hover.tooltips = [\n",
    "    (\"Name\", \"@name\"),\n",
    "    (\"Homicide rate\", \"@rate\"),\n",
    "    (\"Class\",\"@classid\"),\n",
    "    (\"(Long, Lat)\", \"($x, $y)\"),\n",
    "]\n",
    "\n",
    "\n",
    "output_file(\"hr90.html\", title=\"hr90.py example\")\n",
    "show(p)"
   ]
  },
  {
   "cell_type": "code",
   "execution_count": null,
   "metadata": {},
   "outputs": [],
   "source": [
    "# Exercise 2\n",
    "mb10 = ps.Maximum_Breaks(HR90, k=10)\n",
    "classes = mb10.yb\n",
    "\n",
    "# palettes from https://github.com/bokeh/bokeh/blob/master/bokeh/palettes.py\n",
    "colors10 =['#000000', '#1c1c1c', '#383838', '#555555', '#717171', '#8d8d8d', '#aaaaaa', '#c6c6c6', '#e2e2e2', '#ffffff']\n",
    "colors = [colors10[9-i] for i in classes] # reverse the colors lighter to darker"
   ]
  },
  {
   "cell_type": "code",
   "execution_count": null,
   "metadata": {},
   "outputs": [],
   "source": [
    "source = ColumnDataSource(data=dict(\n",
    "        x=lons,\n",
    "        y=lats,\n",
    "        color=colors,\n",
    "        name=tx.NAME,\n",
    "        rate=HR90,\n",
    "        classid=classes\n",
    "    ))\n",
    "\n",
    "TOOLS = \"pan, wheel_zoom, box_zoom, reset, hover, save\"\n",
    "p = figure(title=\"Texas Homicide 1990 (Maximum Breaks k=10)\", tools=TOOLS,\n",
    "          plot_width=900, plot_height=900)\n",
    "\n",
    "p.patches('x', 'y', source=source,\n",
    "         fill_color='color', fill_alpha=0.7,\n",
    "         line_color='white', line_width=0.5)\n",
    "\n",
    "hover = p.select_one(HoverTool)\n",
    "hover.point_policy = 'follow_mouse'\n",
    "hover.tooltips = [\n",
    "    (\"Name\", \"@name\"),\n",
    "    (\"Homicide rate\", \"@rate\"),\n",
    "    (\"Class\",\"@classid\"),\n",
    "    (\"(Long, Lat)\", \"($x, $y)\"),\n",
    "]\n",
    "\n",
    "\n",
    "output_file(\"hr90.html\", title=\"hr90.py example\")\n",
    "show(p)"
   ]
  },
  {
   "cell_type": "code",
   "execution_count": null,
   "metadata": {},
   "outputs": [],
   "source": [
    "mb10"
   ]
  },
  {
   "cell_type": "code",
   "execution_count": null,
   "metadata": {},
   "outputs": [],
   "source": [
    "ps.esda.mapclassify??"
   ]
  },
  {
   "cell_type": "code",
   "execution_count": null,
   "metadata": {},
   "outputs": [],
   "source": []
  }
 ],
 "metadata": {
  "kernelspec": {
   "display_name": "Python 3",
   "language": "python",
   "name": "python3"
  },
  "language_info": {
   "codemirror_mode": {
    "name": "ipython",
    "version": 3
   },
   "file_extension": ".py",
   "mimetype": "text/x-python",
   "name": "python",
   "nbconvert_exporter": "python",
   "pygments_lexer": "ipython3",
   "version": "3.6.7"
  }
 },
 "nbformat": 4,
 "nbformat_minor": 4
}
