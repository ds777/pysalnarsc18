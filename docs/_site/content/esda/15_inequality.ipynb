{
 "cells": [
  {
   "cell_type": "markdown",
   "metadata": {},
   "source": [
    "# Inequality measures"
   ]
  },
  {
   "cell_type": "code",
   "execution_count": null,
   "metadata": {},
   "outputs": [],
   "source": [
    "import matplotlib.pyplot as plt\n",
    "%matplotlib inline\n",
    "import libpysal as ps\n",
    "import numpy as np\n",
    "import geopandas as gpd\n",
    "import mapclassify as mc\n",
    "import inequality"
   ]
  },
  {
   "cell_type": "code",
   "execution_count": null,
   "metadata": {},
   "outputs": [],
   "source": [
    "ps.examples.explain('mexico')"
   ]
  },
  {
   "cell_type": "code",
   "execution_count": null,
   "metadata": {},
   "outputs": [],
   "source": [
    "# we will use an updated shapefile rather than the built-in dataset\n",
    "\n",
    "shp_link = 'data/mexicojoin.shp'\n",
    "data_table = gpd.read_file(shp_link)"
   ]
  },
  {
   "cell_type": "code",
   "execution_count": null,
   "metadata": {},
   "outputs": [],
   "source": [
    "data_table.head()"
   ]
  },
  {
   "cell_type": "code",
   "execution_count": null,
   "metadata": {},
   "outputs": [],
   "source": [
    "data_table.columns"
   ]
  },
  {
   "cell_type": "code",
   "execution_count": null,
   "metadata": {
    "scrolled": false
   },
   "outputs": [],
   "source": [
    "\n",
    "years = range(1940, 2010, 10)\n",
    "\n",
    "for year in years:\n",
    "#     yi = mc.Quantiles(data_table['PCGDP%d'%year], k=5)\n",
    "    f, ax = plt.subplots(1, figsize=(9, 9))\n",
    "    data_table.plot(column='PCGDP%d'%year, scheme=\"quantiles\", \\\n",
    "        k=5, cmap='BuGn', linewidth=0.1, ax=ax, \\\n",
    "        edgecolor='grey', legend=True)\n",
    "    ax.set_axis_off()\n",
    "    plt.title(str(year))\n",
    "    plt.show()\n"
   ]
  },
  {
   "cell_type": "code",
   "execution_count": null,
   "metadata": {},
   "outputs": [],
   "source": [
    "vnames= [\"PCGDP%d\"%year for year in years]\n",
    "vnames"
   ]
  },
  {
   "cell_type": "code",
   "execution_count": null,
   "metadata": {},
   "outputs": [],
   "source": [
    "Y = data_table[vnames].values"
   ]
  },
  {
   "cell_type": "code",
   "execution_count": null,
   "metadata": {},
   "outputs": [],
   "source": [
    "Y.shape"
   ]
  },
  {
   "cell_type": "markdown",
   "metadata": {},
   "source": [
    "## Theil Inequality\n",
    "\n",
    "$$\n",
    "T = \\sum_{i=1}^n \\left( \\frac{y_i}{\\sum_{i=1}^n y_i} ln \\left[ n \\frac{y_i}{\\sum_{i=1}^n y_i} \\right] \\right)\n",
    "$$"
   ]
  },
  {
   "cell_type": "code",
   "execution_count": null,
   "metadata": {},
   "outputs": [],
   "source": [
    "theil = inequality.theil.Theil(Y)"
   ]
  },
  {
   "cell_type": "code",
   "execution_count": null,
   "metadata": {},
   "outputs": [],
   "source": [
    "plt.plot(years, theil.T)"
   ]
  },
  {
   "cell_type": "markdown",
   "metadata": {},
   "source": [
    "## Interregional Decomposition\n",
    "\n",
    "$$\n",
    "T^t = \\sum_{g=1}^{\\omega} s_g^t ln(n/n_g s_g^t) + \\sum_{g=1}^{\\omega} s_g^t \\sum_{i \\in g} s_{i,g}^t ln (n_g s_{i,g}^t)\n",
    "$$\n",
    "\n",
    "where:\n",
    "\n",
    "* $\\sum_g n_g = n$\n",
    "* $s_g^t = \\sum_{i \\in g} y_{i,g}^t / \\sum_i^n y_i^t$\n",
    "* $s_{i,g}^t = y_{i,g}^t / \\sum_{i \\in g} y_{i,g}^t$\n",
    "\n",
    "$$\n",
    "T^t = BG^t + WG^T\n",
    "$$"
   ]
  },
  {
   "cell_type": "code",
   "execution_count": null,
   "metadata": {},
   "outputs": [],
   "source": [
    "f, ax = plt.subplots(1, figsize=(9, 9))\n",
    "data_table.plot(column='HANSON98', categorical=True, \\\n",
    "       linewidth=0.1, ax=ax, \\\n",
    "        edgecolor='white', legend=True)\n",
    "ax.set_axis_off()\n",
    "plt.title('HANSON98')\n",
    "plt.show()\n"
   ]
  },
  {
   "cell_type": "code",
   "execution_count": null,
   "metadata": {},
   "outputs": [],
   "source": [
    "regimes = data_table['HANSON98'].values"
   ]
  },
  {
   "cell_type": "code",
   "execution_count": null,
   "metadata": {},
   "outputs": [],
   "source": [
    "regimes"
   ]
  },
  {
   "cell_type": "code",
   "execution_count": null,
   "metadata": {},
   "outputs": [],
   "source": [
    "theil_d = inequality.theil.TheilD(Y, regimes)"
   ]
  },
  {
   "cell_type": "code",
   "execution_count": null,
   "metadata": {},
   "outputs": [],
   "source": [
    "regimes.shape"
   ]
  },
  {
   "cell_type": "code",
   "execution_count": null,
   "metadata": {},
   "outputs": [],
   "source": [
    "Y.shape"
   ]
  },
  {
   "cell_type": "code",
   "execution_count": null,
   "metadata": {},
   "outputs": [],
   "source": [
    "plt.plot(years, theil_d.bg)"
   ]
  },
  {
   "cell_type": "code",
   "execution_count": null,
   "metadata": {},
   "outputs": [],
   "source": [
    "theil_d.bg"
   ]
  },
  {
   "cell_type": "code",
   "execution_count": null,
   "metadata": {},
   "outputs": [],
   "source": [
    "plt.plot(years, theil_d.wg)"
   ]
  },
  {
   "cell_type": "code",
   "execution_count": null,
   "metadata": {},
   "outputs": [],
   "source": [
    "plt.plot(years, theil_d.T, label='T')\n",
    "plt.plot(years, theil_d.wg, '-o', label='wg')\n",
    "plt.plot(years, theil_d.bg, '-^', label='bg')\n",
    "plt.legend()"
   ]
  },
  {
   "cell_type": "markdown",
   "metadata": {},
   "source": [
    "## Inference"
   ]
  },
  {
   "cell_type": "code",
   "execution_count": null,
   "metadata": {},
   "outputs": [],
   "source": [
    "np.random.seed(12345)\n",
    "theil_ds = inequality.theil.TheilDSim(Y, regimes, 999)"
   ]
  },
  {
   "cell_type": "code",
   "execution_count": null,
   "metadata": {},
   "outputs": [],
   "source": [
    "theil_ds.bg_pvalue"
   ]
  },
  {
   "cell_type": "code",
   "execution_count": null,
   "metadata": {},
   "outputs": [],
   "source": [
    "plt.plot(years, theil_d.T, label='T')\n",
    "plt.plot(years, theil_d.wg, '-o', label='wg')\n",
    "plt.plot(years, theil_d.bg, '-^', label='bg')\n",
    "plt.plot(years, theil_ds.bg_pvalue, ':k', label='p-value')\n",
    "plt.legend()"
   ]
  },
  {
   "cell_type": "markdown",
   "metadata": {},
   "source": [
    "## Sensitivity to regime definition"
   ]
  },
  {
   "cell_type": "code",
   "execution_count": null,
   "metadata": {},
   "outputs": [],
   "source": [
    "regimes = ['HANSON03', 'HANSON98', 'ESQUIVEL99', 'INEGI', 'INEGI2']"
   ]
  },
  {
   "cell_type": "code",
   "execution_count": null,
   "metadata": {
    "scrolled": false
   },
   "outputs": [],
   "source": [
    "for regime in regimes:\n",
    "    f, ax = plt.subplots(1, figsize=(9, 9))\n",
    "    data_table.plot(column=regime, categorical=True, \\\n",
    "           linewidth=0.1, ax=ax, \\\n",
    "            edgecolor='white', legend=True)\n",
    "    ax.set_axis_off()\n",
    "    plt.title(regime)\n",
    "    plt.show()"
   ]
  },
  {
   "cell_type": "code",
   "execution_count": null,
   "metadata": {
    "scrolled": true
   },
   "outputs": [],
   "source": [
    "results = {}\n",
    "for regime in regimes:\n",
    "    reg = data_table[regime].values\n",
    "    results[regime] = inequality.theil.TheilD(Y, reg)\n",
    "    plt.plot(years, results[regime].bg)"
   ]
  },
  {
   "cell_type": "code",
   "execution_count": null,
   "metadata": {},
   "outputs": [],
   "source": [
    "results = {}\n",
    "for regime in regimes:\n",
    "    reg = data_table[regime].values\n",
    "    results[regime] = inequality.theil.TheilD(Y, reg)\n",
    "    plt.plot(years, results[regime].bg, label=regime)\n",
    "plt.legend()"
   ]
  },
  {
   "cell_type": "code",
   "execution_count": null,
   "metadata": {},
   "outputs": [],
   "source": [
    "#share of total equality\n",
    "results = {}\n",
    "for regime in regimes:\n",
    "    reg = data_table[regime].values\n",
    "    results[regime] = inequality.theil.TheilD(Y, reg)\n",
    "    plt.plot(years, results[regime].bg/theil.T, label=regime)\n",
    "\n",
    "plt.legend()"
   ]
  }
 ],
 "metadata": {
  "anaconda-cloud": {},
  "kernelspec": {
   "display_name": "Python 3",
   "language": "python",
   "name": "python3"
  },
  "language_info": {
   "codemirror_mode": {
    "name": "ipython",
    "version": 3
   },
   "file_extension": ".py",
   "mimetype": "text/x-python",
   "name": "python",
   "nbconvert_exporter": "python",
   "pygments_lexer": "ipython3",
   "version": "3.6.6"
  }
 },
 "nbformat": 4,
 "nbformat_minor": 2
}
