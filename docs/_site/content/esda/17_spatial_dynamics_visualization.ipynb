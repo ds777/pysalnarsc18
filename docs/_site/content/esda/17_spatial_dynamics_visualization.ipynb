{
 "cells": [
  {
   "cell_type": "markdown",
   "metadata": {},
   "source": [
    "# Exploratory Spatial and Temporal Data Analysis (ESTDA) - Visualization\n",
    "   "
   ]
  },
  {
   "cell_type": "code",
   "execution_count": null,
   "metadata": {},
   "outputs": [],
   "source": [
    "import matplotlib\n",
    "import numpy as np\n",
    "import libpysal\n",
    "import pandas as pd\n",
    "import matplotlib.pyplot as plt\n",
    "%matplotlib inline\n",
    "import seaborn as sns"
   ]
  },
  {
   "cell_type": "markdown",
   "metadata": {},
   "source": [
    "Load example dataset in **pysal**: nominal per capita incomes observed annually from 1929 to 2009 for the lower 48 US states. Downloaded from [US Bureau of Economic Analysis](https://www.bea.gov)."
   ]
  },
  {
   "cell_type": "code",
   "execution_count": null,
   "metadata": {},
   "outputs": [],
   "source": [
    "pdUS = pd.read_csv(libpysal.examples.get_path('usjoin.csv'))\n",
    "pdUS.head()"
   ]
  },
  {
   "cell_type": "code",
   "execution_count": null,
   "metadata": {},
   "outputs": [],
   "source": [
    "pdUS.info()"
   ]
  },
  {
   "cell_type": "markdown",
   "metadata": {},
   "source": [
    "## Visualization \n",
    "\n",
    "* Temporal dynamics"
   ]
  },
  {
   "cell_type": "code",
   "execution_count": null,
   "metadata": {},
   "outputs": [],
   "source": [
    "names = pdUS[\"Name\"].values\n",
    "names"
   ]
  },
  {
   "cell_type": "code",
   "execution_count": null,
   "metadata": {},
   "outputs": [],
   "source": [
    "years = range(1929,2010)\n",
    "pd_pci = pdUS[list(map(str,years))]\n",
    "pd_pci.head()"
   ]
  },
  {
   "cell_type": "code",
   "execution_count": null,
   "metadata": {},
   "outputs": [],
   "source": [
    "pd_pci.index = names\n",
    "pd_pci.head()"
   ]
  },
  {
   "cell_type": "code",
   "execution_count": null,
   "metadata": {
    "scrolled": true
   },
   "outputs": [],
   "source": [
    "pd_pci = pd_pci.T\n",
    "pd_pci.head()"
   ]
  },
  {
   "cell_type": "code",
   "execution_count": null,
   "metadata": {},
   "outputs": [],
   "source": [
    "pd_pci.plot(legend=None)"
   ]
  },
  {
   "cell_type": "code",
   "execution_count": null,
   "metadata": {},
   "outputs": [],
   "source": [
    "order1929 = np.argsort(pdUS[\"1929\"])\n",
    "order2009 = np.argsort(pdUS[\"2009\"])\n",
    "names1929 = names[order1929[::-1]]\n",
    "names2009 = names[order2009[::-1]]\n",
    "first_last = np.vstack((names[order1929[::-1]],names[order2009[::-1]]))\n",
    "from pylab import rcParams\n",
    "sns.set_palette(sns.color_palette(\"Set1\", 2010-1929))\n",
    "rcParams['figure.figsize'] = 15,10\n",
    "plt.plot(years,pd_pci.as_matrix())\n",
    "#pd_pci.plot(legend=None)\n",
    "for i in range(48):\n",
    "    plt.text(1915,pd_pci.values.max()-500-(i*1159), names1929[i],fontsize=12)\n",
    "    plt.text(2010.5,pd_pci.values.max()-500-(i*1159), names2009[i],fontsize=12)\n",
    "plt.xlim((years[0], years[-1]))\n",
    "plt.ylim((0, pd_pci.values.max()))\n",
    "plt.ylabel(\"Per capita income (Nominal dollar)\",fontsize=14,color=\"r\")\n",
    "plt.xlabel('Year',fontsize=12)\n",
    "plt.title('Absolute Dynamics',fontsize=18)"
   ]
  },
  {
   "cell_type": "markdown",
   "metadata": {},
   "source": [
    "* Distribution dynamics"
   ]
  },
  {
   "cell_type": "code",
   "execution_count": null,
   "metadata": {},
   "outputs": [],
   "source": [
    "import seaborn as sns\n",
    "plt.figure(figsize=(8,7))\n",
    "sns.kdeplot(pdUS[\"1929\"], color=\"b\") \n",
    "sns.kdeplot(pdUS[\"2009\"], color=\"R\")\n",
    "plt.legend()"
   ]
  },
  {
   "cell_type": "code",
   "execution_count": null,
   "metadata": {
    "scrolled": true
   },
   "outputs": [],
   "source": [
    "sns.set_palette(sns.color_palette(\"coolwarm\", 2010-1929))\n",
    "plt.figure(figsize=(10,8))\n",
    "for i in range(2010-1929):\n",
    "    sns.kdeplot(pd_pci.T[str(i+1929)],legend=False)\n",
    "plt.xlabel(\"Per capita income (Nominal dollar)\",fontsize=14,color=\"r\")"
   ]
  },
  {
   "cell_type": "markdown",
   "metadata": {},
   "source": [
    "Another way to visualize the dynamics of cross-sectional distributions - Joyplot\n",
    "\n",
    "> **NOTE**: This material has been ported and adapted from [Joyplot](https://gist.github.com/sjsrey/f98977d78cdcacddc2f6a8891539cb80) by Serge Rey."
   ]
  },
  {
   "cell_type": "code",
   "execution_count": null,
   "metadata": {},
   "outputs": [],
   "source": [
    "from seaborn.distributions import _statsmodels_univariate_kde\n",
    "# Source http://nbviewer.jupyter.org/gist/ljwolf/37c89ddb704c013debb9d205c3acb25b\n",
    "def joyplot(data, ax=None, \n",
    "            flatten = .1, #rescale the height of each distribution to avoid overlap. If large, will flatten out each of the KDEs\n",
    "            linecolor='k', \n",
    "            shadecolor='w',\n",
    "            shade=True, \n",
    "            line_kws = None,\n",
    "            kde_kws=None,\n",
    "            fig_kws=None,\n",
    "            shade_kws=None):\n",
    "    line_kws = dict() if line_kws is None else line_kws\n",
    "    kde_kws = (dict(kernel='gau', bw='scott',\n",
    "                         gridsize=100, cut=3,\n",
    "                         clip=None) if kde_kws is None else kde_kws)\n",
    "    fig_kws = dict(figsize=(5,5)) if fig_kws is None else fig_kws\n",
    "    shade_kws = (dict(alpha=.75, \n",
    "                          clip_on=True, \n",
    "                          zorder=1, \n",
    "                          color=None) if shade_kws is None else shade_kws)\n",
    "    if kde_kws.get('clip',None) is None:\n",
    "        kde_kws['clip'] = (-np.inf, np.inf)\n",
    "    if ax is None:\n",
    "        f,ax = plt.subplots(1,1, **fig_kws)\n",
    "    T,N = data.shape\n",
    "    dsupport = np.array([])\n",
    "    for i, row in enumerate(data):\n",
    "        x,y = _statsmodels_univariate_kde(row, **kde_kws)\n",
    "        y = np.max(np.c_[np.zeros_like(y), y], axis=1)\n",
    "        y = y/(flatten*y.max()) + i\n",
    "        ax.plot(x,y,color=linecolor,**line_kws)\n",
    "        #print(y)\n",
    "        if shade:\n",
    "            if shade_kws.get('color', None) is None:\n",
    "                shade_kws['color'] = shadecolor\n",
    "            ax.fill_between(x, i, y, \n",
    "                             **shade_kws)\n",
    "        dsupport = np.concatenate((dsupport, x))\n",
    "    ax.set_xlim(np.min(dsupport)*.75, np.max(dsupport)*1.25)\n",
    "    return f,ax"
   ]
  },
  {
   "cell_type": "code",
   "execution_count": null,
   "metadata": {},
   "outputs": [],
   "source": [
    "array_pci = pd_pci.as_matrix().astype(float)\n",
    "xmin = array_pci.min()\n",
    "xmax = array_pci.max()\n",
    "f,ax = joyplot(array_pci, shade=True, shadecolor='lightgrey', linecolor='k', fig_kws=dict(figsize=(15,10))) \n",
    "ax.set_xlim(0, xmax)\n",
    "ax.legend(ncol=2, fontsize=16)\n",
    "ax.set_ylabel(\"Year\",fontsize=14)\n",
    "ax.set_xlabel(\"Per capita income (Nominal Dollar)\",fontsize=14,color=\"r\")\n",
    "ax.set_yticks(range(0,9*10,10))\n",
    "ax.set_yticklabels(range(1929,2010,10))\n",
    "plt.show()"
   ]
  },
  {
   "cell_type": "markdown",
   "metadata": {},
   "source": [
    "### Per capita income dynamics in constant dollar 2009 - structural mobility\n",
    "\n",
    "We need to adjust for price change over years for a valid temporal comparison. First we acquire [Historical Consumer Price Index for All Urban Consumers (CPI-U)](https://www.bls.gov/cpi/tables/historical-cpi-u-201709.pdf) from [US Bureau of labor Statistics](https://www.bls.gov/home.htm). \n"
   ]
  },
  {
   "cell_type": "code",
   "execution_count": null,
   "metadata": {},
   "outputs": [],
   "source": [
    "pd_cpi = pd.read_csv(\"data/CPI1913-2016.csv\")\n",
    "pd_cpi.head()"
   ]
  },
  {
   "cell_type": "code",
   "execution_count": null,
   "metadata": {},
   "outputs": [],
   "source": [
    "pd_cpi.index = pd_cpi[\"year\"].as_matrix()\n",
    "pd_cpi = pd_cpi.drop([\"year\"],axis=1)\n",
    "pd_cpi.head()"
   ]
  },
  {
   "cell_type": "code",
   "execution_count": null,
   "metadata": {},
   "outputs": [],
   "source": [
    "pd_cpi2909 = pd_cpi.loc[years]\n",
    "pd_cpi2909"
   ]
  },
  {
   "cell_type": "code",
   "execution_count": null,
   "metadata": {},
   "outputs": [],
   "source": [
    "deflator = (pd_cpi2909.loc[2009]/pd_cpi2909).T.values[0]\n",
    "deflator"
   ]
  },
  {
   "cell_type": "code",
   "execution_count": null,
   "metadata": {},
   "outputs": [],
   "source": [
    "real_2909 = np.dot(np.diag(deflator),pd_pci.values)\n",
    "real_2909"
   ]
  },
  {
   "cell_type": "code",
   "execution_count": null,
   "metadata": {},
   "outputs": [],
   "source": [
    "pd_real_2909 = pdUS.copy()\n",
    "for year in years:\n",
    "    pd_real_2909[str(year)] = real_2909[year-1929,:]\n",
    "pd_real_2909.head()"
   ]
  },
  {
   "cell_type": "code",
   "execution_count": null,
   "metadata": {},
   "outputs": [],
   "source": [
    "pd_real_2909.to_csv(\"data/US_state_pci_constant09_1929_2009.csv\")"
   ]
  },
  {
   "cell_type": "code",
   "execution_count": null,
   "metadata": {},
   "outputs": [],
   "source": [
    "from pylab import rcParams\n",
    "sns.set_palette(sns.color_palette(\"Set1\", 2010-1929))\n",
    "rcParams['figure.figsize'] = 15,10\n",
    "plt.plot(years,real_2909)\n",
    "#pd_pci.plot(legend=None)\n",
    "for i in range(48):\n",
    "    plt.text(1915,real_2909.max()-700-(i*1189), names1929[i],fontsize=12)\n",
    "    plt.text(2010.5,real_2909.max()-700-(i*1189), names2009[i],fontsize=12)\n",
    "plt.xlim((years[0], years[-1]))\n",
    "plt.ylim((0, real_2909.max()))\n",
    "plt.ylabel(r\"$y_{i,t}$\",fontsize=14)\n",
    "plt.ylabel(\"Per capita income (Constant Dollar 2009)\",fontsize=14,color=\"r\")\n",
    "plt.xlabel('Year',fontsize=12)\n"
   ]
  },
  {
   "cell_type": "code",
   "execution_count": null,
   "metadata": {
    "scrolled": true
   },
   "outputs": [],
   "source": [
    "sns.set_palette(sns.color_palette(\"coolwarm\", 2010-1929))\n",
    "plt.figure(figsize=(10,8))\n",
    "plt.xlabel(\"Per capita income (Constant Dollar 2009)\",fontsize=14,color=\"r\")\n",
    "for i in range(2010-1929):\n",
    "    sns.kdeplot(real_2909[i],legend=False)"
   ]
  },
  {
   "cell_type": "code",
   "execution_count": null,
   "metadata": {},
   "outputs": [],
   "source": [
    "xmin = real_2909.min()\n",
    "xmax = real_2909.max()\n",
    "f,ax = joyplot(real_2909, shade=True, shadecolor='lightgrey', linecolor='k', fig_kws=dict(figsize=(15,10))) \n",
    "ax.set_xlim(0, xmax)\n",
    "ax.legend(ncol=2, fontsize=16)\n",
    "ax.set_ylabel(\"Year\",fontsize=14)\n",
    "ax.set_xlabel(\"Per capita income (Constant Dollar 2009)\",fontsize=14,color=\"r\")\n",
    "ax.set_yticks(range(0,9*10,10))\n",
    "ax.set_yticklabels(range(1929,2010,10))\n",
    "plt.show()"
   ]
  },
  {
   "cell_type": "markdown",
   "metadata": {},
   "source": [
    "### Relative per capita income dynamics - exchange mobility"
   ]
  },
  {
   "cell_type": "code",
   "execution_count": null,
   "metadata": {},
   "outputs": [],
   "source": [
    "mean = pd_pci.values.mean(axis=1)\n",
    "mean.shape = (len(mean),1)"
   ]
  },
  {
   "cell_type": "code",
   "execution_count": null,
   "metadata": {},
   "outputs": [],
   "source": [
    "rpci = pd_pci.values/mean\n",
    "rpci"
   ]
  },
  {
   "cell_type": "code",
   "execution_count": null,
   "metadata": {},
   "outputs": [],
   "source": [
    "from pylab import rcParams\n",
    "sns.set_palette(sns.color_palette(\"Set1\", 2010-1929))\n",
    "rcParams['figure.figsize'] = 15,10\n",
    "plt.plot(years,rpci)\n",
    "#pd_pci.plot(legend=None)\n",
    "for i in range(48):\n",
    "    plt.text(1915,rpci.max()-(i*0.042), names1929[i],fontsize=12)\n",
    "    plt.text(2010.5,rpci.max()-(i*0.042), names2009[i],fontsize=12)\n",
    "plt.xlim((years[0], years[-1]))\n",
    "plt.ylim((0, rpci.max()))\n",
    "plt.ylabel(\"Relative Per capita income (mean-normalized)\",fontsize=14,color=\"r\")\n",
    "plt.xlabel('Year',fontsize=12)"
   ]
  },
  {
   "cell_type": "code",
   "execution_count": null,
   "metadata": {},
   "outputs": [],
   "source": [
    "sns.set_palette(sns.color_palette(\"coolwarm\", 2010-1929))\n",
    "plt.figure(figsize=(10,8))\n",
    "for i in range(2010-1929):\n",
    "    sns.kdeplot(rpci[i],legend=False)\n",
    "plt.xlabel(\"Relative Per capita income (mean-normalized)\",fontsize=14,color=\"r\")"
   ]
  },
  {
   "cell_type": "code",
   "execution_count": null,
   "metadata": {},
   "outputs": [],
   "source": [
    "xmin = rpci.min()\n",
    "xmax = rpci.max()\n",
    "f,ax = joyplot(rpci, shade=True, shadecolor='lightgrey', linecolor='k', fig_kws=dict(figsize=(15,10))) \n",
    "ax.set_xlim(0, xmax)\n",
    "ax.legend(ncol=2, fontsize=16)\n",
    "ax.set_ylabel(\"Year\",fontsize=14)\n",
    "ax.set_xlabel(\"Relative Per capita income (mean-normalized)\",fontsize=14,color=\"r\")\n",
    "ax.set_yticks(range(0,9*10,10))\n",
    "ax.set_yticklabels(range(1929,2010,10))\n",
    "plt.show()"
   ]
  },
  {
   "cell_type": "markdown",
   "metadata": {},
   "source": [
    "### Spatial-temporal dynamics visualization"
   ]
  },
  {
   "cell_type": "code",
   "execution_count": null,
   "metadata": {},
   "outputs": [],
   "source": [
    "import pysal\n",
    "from pysal.contrib.viz import mapping as maps\n",
    "data_table = pysal.pdio.read_files(libpysal.examples.get_path('us48.shp'))\n",
    "#income_table = pd.read_csv(ps.examples.get_path(\"usjoin.csv\"))\n",
    "complete_table = data_table.merge(pdUS,left_on='STATE_NAME',right_on='Name')\n",
    "complete_table.head()"
   ]
  },
  {
   "cell_type": "code",
   "execution_count": null,
   "metadata": {},
   "outputs": [],
   "source": [
    "index_year = range(1929,2010,15)\n",
    "fig, axes = plt.subplots(nrows=2, ncols=3,figsize = (15,7))\n",
    "for i in range(2):\n",
    "    for j in range(3):\n",
    "        ax = axes[i,j]\n",
    "        maps.geoplot(complete_table, col=str(index_year[i*3+j]),ax=ax,classi=\"Quantiles\")\n",
    "        ax.set_title('Per Capita Income %s Quintiles'%str(index_year[i*3+j]))\n",
    "plt.tight_layout()"
   ]
  },
  {
   "cell_type": "code",
   "execution_count": null,
   "metadata": {},
   "outputs": [],
   "source": []
  },
  {
   "cell_type": "code",
   "execution_count": null,
   "metadata": {},
   "outputs": [],
   "source": []
  },
  {
   "cell_type": "code",
   "execution_count": null,
   "metadata": {},
   "outputs": [],
   "source": []
  },
  {
   "cell_type": "code",
   "execution_count": null,
   "metadata": {},
   "outputs": [],
   "source": []
  },
  {
   "cell_type": "code",
   "execution_count": null,
   "metadata": {},
   "outputs": [],
   "source": []
  }
 ],
 "metadata": {
  "anaconda-cloud": {},
  "kernelspec": {
   "display_name": "Python 3",
   "language": "python",
   "name": "python3"
  },
  "language_info": {
   "codemirror_mode": {
    "name": "ipython",
    "version": 3
   },
   "file_extension": ".py",
   "mimetype": "text/x-python",
   "name": "python",
   "nbconvert_exporter": "python",
   "pygments_lexer": "ipython3",
   "version": "3.6.6"
  }
 },
 "nbformat": 4,
 "nbformat_minor": 2
}
