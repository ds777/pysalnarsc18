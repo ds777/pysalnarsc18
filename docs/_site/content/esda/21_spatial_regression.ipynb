{
 "cells": [
  {
   "cell_type": "markdown",
   "metadata": {},
   "source": [
    "# Spatial regression\n",
    "\n",
    "> **NOTE**: some of this material has been ported and adapted from the PySAL/spreg code for Chapter 5-13 in *Modern Spatial Econometrics in Practice: A Guide to GeoDa, GeoDaSpace and PySAL* by Luc Anselin and Sergio J. Rey. (c) 2014 Luc Anselin and Sergio J. Rey, All Rights Reserved.\n",
    "\n",
    "* [Basic OLS](#Basic-OLS)\n",
    "    * Nonspatial diagnostics\n",
    "    * Spatial diagnostics - spatial specification\n",
    "* [Spatial Lag Model](#Spatial-Lag-Model)\n",
    "    * Spatial two Stage Least Squares (S2SLS)\n",
    "        * Spatial diagnostics\n",
    "        * Interpretation\n",
    "            * Direct impact\n",
    "            * Indirect impact\n",
    "* [Spatial Model with Lag and Error](#Spatial-Model-with-Lag-and-Error)\n",
    "    \n",
    "* [Spatial error model](#Spatial-Error-Model)"
   ]
  },
  {
   "cell_type": "markdown",
   "metadata": {},
   "source": [
    "## Basic Regression Setup##"
   ]
  },
  {
   "cell_type": "markdown",
   "metadata": {},
   "source": [
    "**Creating arrays for y and x using the Baltimore house price example**"
   ]
  },
  {
   "cell_type": "markdown",
   "metadata": {},
   "source": [
    "Preliminaries, importing **numpy** and **PySAL**"
   ]
  },
  {
   "cell_type": "code",
   "execution_count": null,
   "metadata": {},
   "outputs": [],
   "source": [
    "%pylab inline"
   ]
  },
  {
   "cell_type": "code",
   "execution_count": null,
   "metadata": {},
   "outputs": [],
   "source": [
    "import numpy as np\n",
    "import pysal as ps"
   ]
  },
  {
   "cell_type": "markdown",
   "metadata": {},
   "source": [
    "Loading the data set **baltim.dbf** from pysal exmaple datasets and creating the data object."
   ]
  },
  {
   "cell_type": "code",
   "execution_count": null,
   "metadata": {},
   "outputs": [],
   "source": [
    "db = ps.open(ps.examples.get_path(\"baltim.dbf\"),'r')\n",
    "db.header"
   ]
  },
  {
   "cell_type": "markdown",
   "metadata": {},
   "source": [
    "Check how many observations:"
   ]
  },
  {
   "cell_type": "code",
   "execution_count": null,
   "metadata": {},
   "outputs": [],
   "source": [
    "len(db)"
   ]
  },
  {
   "cell_type": "markdown",
   "metadata": {},
   "source": [
    "**y** - dependent variable is PRICE"
   ]
  },
  {
   "cell_type": "code",
   "execution_count": null,
   "metadata": {},
   "outputs": [],
   "source": [
    "y_name = \"PRICE\""
   ]
  },
  {
   "cell_type": "code",
   "execution_count": null,
   "metadata": {},
   "outputs": [],
   "source": [
    "from pysal.contrib.viz import mapping as maps\n",
    "db_pd = ps.pdio.read_files(ps.examples.get_path(\"baltim.shp\"))\n",
    "fig, ax = plt.subplots(1, figsize=(6, 6))\n",
    "maps.geoplot(db_pd, y_name,ax=ax, palette='OrRd',classi=\"Equal_Interval\")"
   ]
  },
  {
   "cell_type": "markdown",
   "metadata": {},
   "source": [
    "Create the y array as a n by 1 column vector (hence the transpose **T**)"
   ]
  },
  {
   "cell_type": "code",
   "execution_count": null,
   "metadata": {},
   "outputs": [],
   "source": [
    "y = np.array([db.by_col(y_name)]).T"
   ]
  },
  {
   "cell_type": "markdown",
   "metadata": {},
   "source": [
    "Check on the dimensions"
   ]
  },
  {
   "cell_type": "code",
   "execution_count": null,
   "metadata": {},
   "outputs": [],
   "source": [
    "y.shape"
   ]
  },
  {
   "cell_type": "markdown",
   "metadata": {},
   "source": [
    "**x** - the explanatory variables\n",
    "\n",
    "First create a list with the variable names, then use a list comprehension to create the **x** array"
   ]
  },
  {
   "cell_type": "code",
   "execution_count": null,
   "metadata": {},
   "outputs": [],
   "source": [
    "x_names = ['NROOM','NBATH','PATIO','FIREPL','AC','GAR','AGE',\n",
    "           'LOTSZ','SQFT']\n",
    "x = np.array([db.by_col(var) for var in x_names]).T"
   ]
  },
  {
   "cell_type": "markdown",
   "metadata": {},
   "source": [
    "Check on dimensions"
   ]
  },
  {
   "cell_type": "code",
   "execution_count": null,
   "metadata": {},
   "outputs": [],
   "source": [
    "x.shape"
   ]
  },
  {
   "cell_type": "markdown",
   "metadata": {},
   "source": [
    "**Model weights** - needed for spatial diagnostics"
   ]
  },
  {
   "cell_type": "markdown",
   "metadata": {},
   "source": [
    "k nearest neighbor with k=4 constructed from **baltim.shp**, using STATION as the ID variable"
   ]
  },
  {
   "cell_type": "code",
   "execution_count": null,
   "metadata": {},
   "outputs": [],
   "source": [
    "w = ps.knnW_from_shapefile(ps.examples.get_path('baltim.shp'),k=4,idVariable='STATION')"
   ]
  },
  {
   "cell_type": "markdown",
   "metadata": {},
   "source": [
    "Quick check on dimension"
   ]
  },
  {
   "cell_type": "code",
   "execution_count": null,
   "metadata": {},
   "outputs": [],
   "source": [
    "w.n"
   ]
  },
  {
   "cell_type": "code",
   "execution_count": null,
   "metadata": {},
   "outputs": [],
   "source": [
    "w.histogram"
   ]
  },
  {
   "cell_type": "markdown",
   "metadata": {},
   "source": [
    "row-standardize - is **always** necessary"
   ]
  },
  {
   "cell_type": "code",
   "execution_count": null,
   "metadata": {},
   "outputs": [],
   "source": [
    "w.transform = 'r'"
   ]
  },
  {
   "cell_type": "markdown",
   "metadata": {},
   "source": [
    "Quick check on the values of the weights"
   ]
  },
  {
   "cell_type": "code",
   "execution_count": null,
   "metadata": {},
   "outputs": [],
   "source": [
    "w.weights[1]"
   ]
  },
  {
   "cell_type": "markdown",
   "metadata": {},
   "source": [
    "## Basic OLS "
   ]
  },
  {
   "cell_type": "markdown",
   "metadata": {},
   "source": [
    "**OLS with variable and data set names**\n",
    "\n",
    "$$\\mathbf{y}=\\mathbf{X} \\beta + \\mathbf{\\epsilon}$$"
   ]
  },
  {
   "cell_type": "code",
   "execution_count": null,
   "metadata": {},
   "outputs": [],
   "source": [
    "ols1a = ps.spreg.OLS(y,x,name_y=y_name,name_x=x_names, name_ds='baltim.shp')"
   ]
  },
  {
   "cell_type": "code",
   "execution_count": null,
   "metadata": {},
   "outputs": [],
   "source": [
    "print(ols1a.summary)"
   ]
  },
  {
   "cell_type": "markdown",
   "metadata": {},
   "source": [
    "## OLS with White Test"
   ]
  },
  {
   "cell_type": "markdown",
   "metadata": {},
   "source": [
    "set **white_test = True**"
   ]
  },
  {
   "cell_type": "code",
   "execution_count": null,
   "metadata": {},
   "outputs": [],
   "source": [
    "ols2 = ps.spreg.OLS(y,x,white_test=True,name_y=y_name,name_x=x_names,name_ds='baltim.shp')"
   ]
  },
  {
   "cell_type": "code",
   "execution_count": null,
   "metadata": {},
   "outputs": [],
   "source": [
    "print( ols2.summary )"
   ]
  },
  {
   "cell_type": "markdown",
   "metadata": {},
   "source": [
    "now the **White** test is included as one of the diagnostics"
   ]
  },
  {
   "cell_type": "markdown",
   "metadata": {},
   "source": [
    "## OLS with Spatial Diagnostics"
   ]
  },
  {
   "cell_type": "markdown",
   "metadata": {},
   "source": [
    "specify the weights (**w**) and set **spat_diag = True** and **moran = True**\n",
    "\n",
    "specify a name for the weights in **name_w**, all the rest is as before\n",
    "\n",
    "for convenience, white_test is back to default of False"
   ]
  },
  {
   "cell_type": "code",
   "execution_count": null,
   "metadata": {},
   "outputs": [],
   "source": [
    "ols3 = ps.spreg.OLS(y,x,w=w,spat_diag=True,moran=True,\n",
    "                       name_y=y_name,name_x=x_names,name_w='baltim_k4',\n",
    "                       name_ds='baltim.shp')"
   ]
  },
  {
   "cell_type": "code",
   "execution_count": null,
   "metadata": {},
   "outputs": [],
   "source": [
    "print( ols3.summary )"
   ]
  },
  {
   "cell_type": "markdown",
   "metadata": {},
   "source": [
    "diagnostics for spatial dependence at the bottom of the listing\n",
    "\n",
    "Pointing to a spatial lag or a SARMA specification? Let's run both of them"
   ]
  },
  {
   "cell_type": "markdown",
   "metadata": {},
   "source": [
    "## Spatial Lag Model\n",
    "$$\\mathbf{y}= \\rho \\mathbf{Wy} + \\mathbf{X} \\beta + \\mathbf{\\epsilon}$$"
   ]
  },
  {
   "cell_type": "markdown",
   "metadata": {},
   "source": [
    "### Spatial two Stage Least Squares (S2SLS)\n",
    "\n",
    "The endogeneity of the lagged dependent variable $\\mathbf{Wy}$ can be dealt with by using instrumental variables $[\\mathbf{X}, \\mathbf{WX}, \\mathbf{W^2X}]$.\n",
    "\n",
    "The default setting of instrumental variables in PySAL `GM_Lag` includes exogeneous variables and their first-oder spatial lags $[\\mathbf{X}, \\mathbf{WX}]$."
   ]
  },
  {
   "cell_type": "code",
   "execution_count": null,
   "metadata": {},
   "outputs": [],
   "source": [
    "S2SLS1 = ps.spreg.GM_Lag(y,x,w=w,name_y=y_name,name_x=x_names,name_w='baltim_k4',name_ds='baltim')"
   ]
  },
  {
   "cell_type": "code",
   "execution_count": null,
   "metadata": {},
   "outputs": [],
   "source": [
    "print( S2SLS1.summary )"
   ]
  },
  {
   "cell_type": "markdown",
   "metadata": {},
   "source": [
    "#### including spatial diagnostics, set `spat_diag=True`"
   ]
  },
  {
   "cell_type": "code",
   "execution_count": null,
   "metadata": {},
   "outputs": [],
   "source": [
    "S2SLS1_sp = ps.spreg.GM_Lag(y,x,w=w,spat_diag=True,\n",
    "                          name_y=y_name,name_x=x_names,\n",
    "                          name_w='baltim_k4',name_ds='baltim')\n",
    "print( S2SLS1_sp.summary )"
   ]
  },
  {
   "cell_type": "markdown",
   "metadata": {},
   "source": [
    "### Direct & Indirect Impacts"
   ]
  },
  {
   "cell_type": "code",
   "execution_count": null,
   "metadata": {},
   "outputs": [],
   "source": [
    "b = S2SLS1_sp.betas[:-1]\n",
    "b"
   ]
  },
  {
   "cell_type": "code",
   "execution_count": null,
   "metadata": {},
   "outputs": [],
   "source": [
    "rho = S2SLS1_sp.betas[-1]\n",
    "rho"
   ]
  },
  {
   "cell_type": "code",
   "execution_count": null,
   "metadata": {},
   "outputs": [],
   "source": [
    "btot = b / (1.0 - rho) #direct impact\n",
    "bind = btot - b #indirect impact"
   ]
  },
  {
   "cell_type": "code",
   "execution_count": null,
   "metadata": {},
   "outputs": [],
   "source": [
    "varnames = [\"CONSTANT\"] + x_names\n",
    "print( \"Variable       Direct       Indirect      Total\" )\n",
    "for i in range(len(varnames)):\n",
    "    print(\"%10s %12.7f %12.7f %12.7f\" % (varnames[i],b[i][0],bind[i][0],btot[i][0]))"
   ]
  },
  {
   "cell_type": "markdown",
   "metadata": {},
   "source": [
    "#### using second order spatial lags for the instruments, set `w_lags = 2`"
   ]
  },
  {
   "cell_type": "code",
   "execution_count": null,
   "metadata": {},
   "outputs": [],
   "source": [
    "S2SLS2_sp = ps.spreg.GM_Lag(y,x,w=w,w_lags=2,spat_diag=True,\n",
    "                          name_y=y_name,name_x=x_names,\n",
    "                          name_w='baltim_k4',name_ds='baltim')\n",
    "print(S2SLS2_sp.summary)"
   ]
  },
  {
   "cell_type": "markdown",
   "metadata": {},
   "source": [
    "## Spatial Model with Lag and Error\n",
    "Or SAR-SAR\n",
    "\n",
    "$$\\mathbf{y}= \\rho \\mathbf{Wy} + \\mathbf{X} \\beta + \\mathbf{\\mu}$$\n",
    "$$\\mathbf{\\mu} = \\lambda \\mathbf{W \\mu} + \\mathbf{\\epsilon}$$"
   ]
  },
  {
   "cell_type": "code",
   "execution_count": null,
   "metadata": {},
   "outputs": [],
   "source": [
    "ps.spreg.GM_Combo?"
   ]
  },
  {
   "cell_type": "code",
   "execution_count": null,
   "metadata": {},
   "outputs": [],
   "source": [
    "combo1 = ps.spreg.GM_Combo(y,x,w=w,name_y=y_name,\n",
    "                       name_x=x_names,name_w=\"baltim_k4\",\n",
    "                       name_ds=\"baltim\")\n",
    "print(combo1.summary)"
   ]
  },
  {
   "cell_type": "markdown",
   "metadata": {},
   "source": [
    "## Spatial Error Model\n",
    "\n",
    "$$\\mathbf{y}= \\mathbf{X} \\beta + \\mathbf{\\mu}$$\n",
    "$$\\mathbf{\\mu} = \\lambda \\mathbf{W \\mu} + \\mathbf{\\epsilon}$$"
   ]
  },
  {
   "cell_type": "code",
   "execution_count": null,
   "metadata": {},
   "outputs": [],
   "source": [
    "sem = ps.spreg.GM_Error(y,x,w=w,name_y=y_name,\n",
    "                       name_x=x_names,name_w=\"baltim_k4\",\n",
    "                       name_ds=\"baltim\")\n",
    "print( sem.summary )"
   ]
  },
  {
   "cell_type": "code",
   "execution_count": null,
   "metadata": {},
   "outputs": [],
   "source": []
  },
  {
   "cell_type": "code",
   "execution_count": null,
   "metadata": {},
   "outputs": [],
   "source": []
  },
  {
   "cell_type": "markdown",
   "metadata": {},
   "source": [
    "## Practice##"
   ]
  },
  {
   "cell_type": "markdown",
   "metadata": {},
   "source": [
    "Create a regression object using the classic Harrison-Rubinfeld Boston house price data set (included as Boston.shp). Regression median house value (MEDV) on crime rate (CRIM), Charles river dummy (CHAS), nitric oxides (NOX), number of rooms (RM), age (AGE), weighted distance to five employment centers (DIS) and percent \"lower status population\" (LSTAT). A full description of the Boston data set is available on the GeoDa Center sample data set site.\n",
    "\n",
    "Use a k-nearest neighbor spatial weights (k = 4) for the spatial diagnostics.\n",
    "\n",
    "What is the most likely alternative spatial regression model, given the results of a spatial specification search.\n",
    "\n",
    "Try any other combinations of explanatory variables, spatial weights and standard error specifications."
   ]
  },
  {
   "cell_type": "code",
   "execution_count": null,
   "metadata": {},
   "outputs": [],
   "source": []
  },
  {
   "cell_type": "code",
   "execution_count": null,
   "metadata": {},
   "outputs": [],
   "source": []
  },
  {
   "cell_type": "code",
   "execution_count": null,
   "metadata": {},
   "outputs": [],
   "source": []
  },
  {
   "cell_type": "markdown",
   "metadata": {},
   "source": [
    "## Solutions"
   ]
  },
  {
   "cell_type": "code",
   "execution_count": null,
   "metadata": {},
   "outputs": [],
   "source": [
    "db = ps.open(\"data/Boston.dbf\",'r')\n",
    "db.header"
   ]
  },
  {
   "cell_type": "code",
   "execution_count": null,
   "metadata": {},
   "outputs": [],
   "source": [
    "y_name = \"MEDV\"\n",
    "y = np.array([db.by_col(y_name)]).T"
   ]
  },
  {
   "cell_type": "code",
   "execution_count": null,
   "metadata": {},
   "outputs": [],
   "source": [
    "x_names = [\"CRIM\",\"CHAS\",\"NOX\",\"RM\",\"AGE\",\"DIS\",\"LSTAT\"]\n",
    "x = np.array([db.by_col(var) for var in x_names]).T"
   ]
  },
  {
   "cell_type": "code",
   "execution_count": null,
   "metadata": {},
   "outputs": [],
   "source": [
    "w = ps.knnW_from_shapefile('data/Boston.shp',k=4)"
   ]
  },
  {
   "cell_type": "code",
   "execution_count": null,
   "metadata": {},
   "outputs": [],
   "source": [
    "ols1a = ps.spreg.OLS(y,x,w=w,spat_diag=True,moran=True, name_y=y_name,name_x=x_names, name_ds='Boston.shp')"
   ]
  },
  {
   "cell_type": "code",
   "execution_count": null,
   "metadata": {},
   "outputs": [],
   "source": [
    "print(ols1a.summary)"
   ]
  },
  {
   "cell_type": "code",
   "execution_count": null,
   "metadata": {},
   "outputs": [],
   "source": [
    "kw = ps.adaptive_kernelW_from_shapefile('data/Boston.shp',\n",
    "                                             k=12,diagonal=True)"
   ]
  },
  {
   "cell_type": "code",
   "execution_count": null,
   "metadata": {},
   "outputs": [],
   "source": [
    "ols6 = ps.spreg.OLS(y,x,w=w,spat_diag=True,moran=True,robust='hac',gwk=kw,\n",
    "                       name_y=y_name,name_x=x_names,\n",
    "                       name_gwk='Boston_tri_k12',name_ds='Boston.shp')\n",
    "print(ols6.summary)"
   ]
  },
  {
   "cell_type": "code",
   "execution_count": null,
   "metadata": {},
   "outputs": [],
   "source": []
  }
 ],
 "metadata": {
  "kernelspec": {
   "display_name": "Python 3",
   "language": "python",
   "name": "python3"
  },
  "language_info": {
   "codemirror_mode": {
    "name": "ipython",
    "version": 3
   },
   "file_extension": ".py",
   "mimetype": "text/x-python",
   "name": "python",
   "nbconvert_exporter": "python",
   "pygments_lexer": "ipython3",
   "version": "3.6.6"
  }
 },
 "nbformat": 4,
 "nbformat_minor": 2
}
