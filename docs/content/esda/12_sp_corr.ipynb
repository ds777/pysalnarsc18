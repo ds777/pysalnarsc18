{
 "cells": [
  {
   "cell_type": "markdown",
   "metadata": {},
   "source": [
    "## Note\n",
    "Interact widget does not currently work in jupyter-lab.\n",
    "\n",
    "Need to run this notebook after starting `jupyter notebook`."
   ]
  },
  {
   "cell_type": "code",
   "execution_count": null,
   "metadata": {},
   "outputs": [],
   "source": [
    "import pysal as ps\n",
    "import numpy as np\n",
    "import matplotlib.pyplot as plt\n",
    "from scipy.linalg import inv"
   ]
  },
  {
   "cell_type": "markdown",
   "metadata": {},
   "source": [
    "# Interactive spatial autocorrelation"
   ]
  },
  {
   "cell_type": "markdown",
   "metadata": {},
   "source": [
    "This notebook illustrates the concept of spatial autocorrelation using the new interactivity in IPython. The data generating process (DGP) considered here is the following:"
   ]
  },
  {
   "cell_type": "markdown",
   "metadata": {},
   "source": [
    "1. $u = \\lambda Wu + \\epsilon$\n",
    "\n",
    "1. $u - \\lambda Wu = \\epsilon$\n",
    "\n",
    "1. $u (I - \\lambda W) = \\epsilon$\n",
    "\n",
    "1. $u = (I - \\lambda W)^{-1} \\epsilon$"
   ]
  },
  {
   "cell_type": "markdown",
   "metadata": {},
   "source": [
    "Where `u` is a vector spatially autocorrelated, `W` is a spatial weights matrix as you could created with `PySAL`, and $\\epsilon$ is an i.i.d. random vector."
   ]
  },
  {
   "cell_type": "markdown",
   "metadata": {},
   "source": [
    "To implement the previous DGP, the simple method `draw_map` (actual code pasted at the bottom of the notebook, so make sure to run that cell beforehand) creates a random vector with degree of spatial autocorrelation $\\lambda$ and allocates it to a lattice geography, where every pixel is assumed to be an area with a value. Right next to it, the function also displays the Moran's scatter plot. Both map and plot depend on the $\\lambda$ parameter that controls the degree of spatial autocorrelation.\n",
    "\n",
    "Here's a static version of the function:"
   ]
  },
  {
   "cell_type": "code",
   "execution_count": null,
   "metadata": {},
   "outputs": [],
   "source": [
    "draw_map(0.95)"
   ]
  },
  {
   "cell_type": "markdown",
   "metadata": {},
   "source": [
    "Now, we can make the $\\lambda$ value change in an interactive way:"
   ]
  },
  {
   "cell_type": "code",
   "execution_count": null,
   "metadata": {},
   "outputs": [],
   "source": [
    "from ipywidgets import interact, interactive, fixed, interact_manual\n",
    "import ipywidgets as widgets\n",
    "interact(draw_map, lamb=(-0.9, 0.9));"
   ]
  },
  {
   "cell_type": "markdown",
   "metadata": {},
   "source": [
    "# Actual plotting function"
   ]
  },
  {
   "cell_type": "code",
   "execution_count": null,
   "metadata": {},
   "outputs": [],
   "source": [
    "def draw_map(lamb):\n",
    "    s = 20\n",
    "    n = s**2\n",
    "    w = ps.lat2W(s, s, rook=False)\n",
    "    w.transform = 'R'\n",
    "    e = np.random.random((n, 1))\n",
    "    u = inv(np.eye(n) - lamb * w.full()[0])\n",
    "    u = np.dot(u, e)\n",
    "    ul = ps.lag_spatial(w, u)\n",
    "    u = (u - u.mean()) / np.std(u)\n",
    "    ul = (ul - ul.mean()) / np.std(ul)\n",
    "    gu = u.reshape((s, s))\n",
    "    # Figure\n",
    "    f = plt.figure(figsize=(9, 4))\n",
    "    ax1 = f.add_subplot(121)\n",
    "    ax1.matshow(gu, cmap=plt.cm.YlGn)\n",
    "    ax1.set_frame_on(False)\n",
    "    ax1.axes.get_xaxis().set_visible(False)\n",
    "    ax1.axes.get_yaxis().set_visible(False)\n",
    "    #---\n",
    "    ax2 = f.add_subplot(122)\n",
    "    sc = ax2.scatter(u, ul, linewidth=0)\n",
    "    ols = ps.spreg.OLS(ul, u)\n",
    "    tag = \"b = %.3f\"%ols.betas[1][0]\n",
    "    ax2.plot(u, ols.predy, c='red', label=tag)\n",
    "    ax2.axvline(0, c='0.5')\n",
    "    ax2.axhline(0, c='0.5')\n",
    "    ax2.legend()\n",
    "    plt.xlabel('u')\n",
    "    plt.ylabel('Wu')\n",
    "    plt.suptitle(\"$\\lambda$ = %.2f\"%lamb)\n",
    "    plt.show()"
   ]
  },
  {
   "cell_type": "code",
   "execution_count": null,
   "metadata": {},
   "outputs": [],
   "source": []
  },
  {
   "cell_type": "code",
   "execution_count": null,
   "metadata": {},
   "outputs": [],
   "source": []
  }
 ],
 "metadata": {
  "anaconda-cloud": {},
  "kernelspec": {
   "display_name": "Python 3",
   "language": "python",
   "name": "python3"
  },
  "language_info": {
   "codemirror_mode": {
    "name": "ipython",
    "version": 3
   },
   "file_extension": ".py",
   "mimetype": "text/x-python",
   "name": "python",
   "nbconvert_exporter": "python",
   "pygments_lexer": "ipython3",
   "version": "3.6.6"
  }
 },
 "nbformat": 4,
 "nbformat_minor": 2
}
