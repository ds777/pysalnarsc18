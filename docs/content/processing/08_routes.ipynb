{
 "cells": [
  {
   "cell_type": "code",
   "execution_count": null,
   "metadata": {},
   "outputs": [],
   "source": [
    "import json\n",
    "import matplotlib.pyplot as plt\n",
    "\n",
    "%matplotlib inline"
   ]
  },
  {
   "cell_type": "code",
   "execution_count": null,
   "metadata": {},
   "outputs": [],
   "source": [
    "f = \"data/continents.geojson\"\n",
    "with open(f, 'r') as infile:\n",
    "    g = json.load(infile)\n",
    "\n",
    "from shapely.geometry import shape\n",
    "for feature in g['features']:\n",
    "    sf = shape(feature['geometry'])\n",
    "    if feature['geometry']['type'] == 'MultiPolygon':\n",
    "        for geom in sf.geoms:\n",
    "                plt.plot(*geom.exterior.xy, color='grey')\n",
    "    else:\n",
    "        plt.plot(*sf.exterior.xy, color='grey')"
   ]
  },
  {
   "cell_type": "code",
   "execution_count": null,
   "metadata": {},
   "outputs": [],
   "source": [
    "plt.rcParams['figure.figsize'] = [10, 5] # set figure size\n"
   ]
  },
  {
   "cell_type": "code",
   "execution_count": null,
   "metadata": {},
   "outputs": [],
   "source": [
    "f = \"data/continents.geojson\"\n",
    "with open(f, 'r') as infile:\n",
    "    g = json.load(infile)\n",
    "\n",
    "from shapely.geometry import shape\n",
    "for feature in g['features']:\n",
    "    sf = shape(feature['geometry'])\n",
    "    if feature['geometry']['type'] == 'MultiPolygon':\n",
    "        for geom in sf.geoms:\n",
    "                plt.plot(*geom.exterior.xy, color='grey')\n",
    "    else:\n",
    "        plt.plot(*sf.exterior.xy, color='grey')"
   ]
  },
  {
   "cell_type": "code",
   "execution_count": null,
   "metadata": {},
   "outputs": [],
   "source": [
    "import pandas as pd\n",
    "participants2018 = pd.read_csv('data/participants2018.csv', encoding='latin-1')"
   ]
  },
  {
   "cell_type": "code",
   "execution_count": null,
   "metadata": {},
   "outputs": [],
   "source": [
    "participants2018"
   ]
  },
  {
   "cell_type": "code",
   "execution_count": null,
   "metadata": {},
   "outputs": [],
   "source": [
    "for idx, p in participants2018.iterrows():\n",
    "    plt.plot(p['lon'], p['lat'], '^')"
   ]
  },
  {
   "cell_type": "code",
   "execution_count": null,
   "metadata": {},
   "outputs": [],
   "source": [
    "from shapely.geometry import shape\n",
    "for feature in g['features']:\n",
    "    sf = shape(feature['geometry'])\n",
    "    if feature['geometry']['type'] == 'MultiPolygon':\n",
    "        for geom in sf.geoms:\n",
    "            plt.plot(*geom.exterior.xy, color='grey')\n",
    "    else:\n",
    "        plt.plot(*sf.exterior.xy, color='grey')\n",
    "    \n",
    "for idx, p in participants2018.iterrows():\n",
    "    plt.plot(p['lon'], p['lat'], '^')     \n",
    "    "
   ]
  },
  {
   "cell_type": "code",
   "execution_count": null,
   "metadata": {},
   "outputs": [],
   "source": [
    "sanantonio = ( -98.4936, 29.4241)\n"
   ]
  },
  {
   "cell_type": "code",
   "execution_count": null,
   "metadata": {},
   "outputs": [],
   "source": [
    "import pyproj"
   ]
  },
  {
   "cell_type": "code",
   "execution_count": null,
   "metadata": {},
   "outputs": [],
   "source": [
    "pyproj.Geod?"
   ]
  },
  {
   "cell_type": "code",
   "execution_count": null,
   "metadata": {},
   "outputs": [],
   "source": [
    "geod = pyproj.Geod(ellps='WGS84')"
   ]
  },
  {
   "cell_type": "code",
   "execution_count": null,
   "metadata": {},
   "outputs": [],
   "source": [
    "gcd = geod.inv(sanantonio[0], sanantonio[1], 27.9977, -26.1836)\n",
    "gcd"
   ]
  },
  {
   "cell_type": "code",
   "execution_count": null,
   "metadata": {},
   "outputs": [],
   "source": [
    "gcd[-1] * 0.000621371"
   ]
  },
  {
   "cell_type": "code",
   "execution_count": null,
   "metadata": {},
   "outputs": [],
   "source": [
    "waypoints = geod.npts(sanantonio[0], sanantonio[1], 27.9977, -26.1836, 20)"
   ]
  },
  {
   "cell_type": "code",
   "execution_count": null,
   "metadata": {},
   "outputs": [],
   "source": [
    "waypoints"
   ]
  },
  {
   "cell_type": "code",
   "execution_count": null,
   "metadata": {},
   "outputs": [],
   "source": [
    "#route = [minn]\n",
    "route = [sanantonio]\n",
    "route.extend(waypoints)\n",
    "route.append((27.9977, -26.1836))"
   ]
  },
  {
   "cell_type": "code",
   "execution_count": null,
   "metadata": {},
   "outputs": [],
   "source": [
    "import numpy as np\n",
    "route = np.array(route)"
   ]
  },
  {
   "cell_type": "code",
   "execution_count": null,
   "metadata": {},
   "outputs": [],
   "source": [
    "plt.plot(route[:,0], route[:,1])"
   ]
  },
  {
   "cell_type": "code",
   "execution_count": null,
   "metadata": {},
   "outputs": [],
   "source": [
    "from shapely.geometry import shape\n",
    "for feature in g['features']:\n",
    "    sf = shape(feature['geometry'])\n",
    "    if feature['geometry']['type'] == 'MultiPolygon':\n",
    "        for geom in sf.geoms:\n",
    "            plt.plot(*geom.exterior.xy, color='grey')\n",
    "    else:\n",
    "        plot(*sf.exterior.xy, color='grey')\n",
    "    \n",
    "for idx, p in participants2018.iterrows():\n",
    "    plt.plot(p['lon'], p['lat'], '^')     \n",
    "\n",
    "plt.plot(route[:,0], route[:,1])"
   ]
  },
  {
   "cell_type": "markdown",
   "metadata": {},
   "source": [
    "## On your own\n",
    "\n",
    "1. Calculate and plot the great circle routes bringing our participants to the workshop."
   ]
  },
  {
   "cell_type": "code",
   "execution_count": null,
   "metadata": {},
   "outputs": [],
   "source": []
  },
  {
   "cell_type": "code",
   "execution_count": null,
   "metadata": {},
   "outputs": [],
   "source": []
  },
  {
   "cell_type": "code",
   "execution_count": null,
   "metadata": {},
   "outputs": [],
   "source": []
  },
  {
   "cell_type": "code",
   "execution_count": null,
   "metadata": {},
   "outputs": [],
   "source": []
  },
  {
   "cell_type": "code",
   "execution_count": null,
   "metadata": {},
   "outputs": [],
   "source": []
  },
  {
   "cell_type": "code",
   "execution_count": null,
   "metadata": {},
   "outputs": [],
   "source": []
  },
  {
   "cell_type": "code",
   "execution_count": null,
   "metadata": {},
   "outputs": [],
   "source": []
  },
  {
   "cell_type": "code",
   "execution_count": null,
   "metadata": {},
   "outputs": [],
   "source": []
  },
  {
   "cell_type": "code",
   "execution_count": null,
   "metadata": {},
   "outputs": [],
   "source": []
  },
  {
   "cell_type": "code",
   "execution_count": null,
   "metadata": {},
   "outputs": [],
   "source": []
  },
  {
   "cell_type": "code",
   "execution_count": null,
   "metadata": {},
   "outputs": [],
   "source": []
  },
  {
   "cell_type": "code",
   "execution_count": null,
   "metadata": {},
   "outputs": [],
   "source": []
  },
  {
   "cell_type": "markdown",
   "metadata": {},
   "source": [
    "# Solution"
   ]
  },
  {
   "cell_type": "code",
   "execution_count": null,
   "metadata": {},
   "outputs": [],
   "source": [
    "import pandas as pd\n",
    "participants2018 = pd.read_csv('data/participants2018.csv', encoding='latin-1')\n",
    "from shapely.geometry import shape\n",
    "for feature in g['features']:\n",
    "    sf = shape(feature['geometry'])\n",
    "    if feature['geometry']['type'] == 'MultiPolygon':\n",
    "        for geom in sf.geoms:\n",
    "            plt.plot(*geom.exterior.xy, color='grey')\n",
    "    else:\n",
    "        plt.plot(*sf.exterior.xy, color='grey')\n",
    "    \n",
    "for idx, p in participants2018.iterrows():\n",
    "    plt.plot(p['lon'], p['lat'], '^', markerfacecolor='r', markeredgecolor='r')     \n",
    "\n",
    "\n",
    "for idx, p in participants2018.iterrows():\n",
    "    waypoints = geod.npts(sanantonio[0], sanantonio[1], p['lon'], p['lat'], 20)\n",
    "    route = [sanantonio]\n",
    "    route.extend(waypoints)\n",
    "    route.append((p['lon'], p['lat']))\n",
    "    route = np.array(route)\n",
    "    plt.plot(route[:,0], route[:,1], color='r')"
   ]
  },
  {
   "cell_type": "markdown",
   "metadata": {},
   "source": [
    "### Break the line"
   ]
  },
  {
   "cell_type": "code",
   "execution_count": null,
   "metadata": {},
   "outputs": [],
   "source": [
    "import pandas as pd\n",
    "participants2018 = pd.read_csv('data/participants2018.csv',encoding='latin-1')\n",
    "from shapely.geometry import shape\n",
    "for feature in g['features']:\n",
    "    sf = shape(feature['geometry'])\n",
    "    if feature['geometry']['type'] == 'MultiPolygon':\n",
    "        for geom in sf.geoms:\n",
    "            plt.plot(*geom.exterior.xy, color='grey')\n",
    "    else:\n",
    "        plt.plot(*sf.exterior.xy, color='grey')\n",
    "    \n",
    "for idx, p in participants2018.iterrows():\n",
    "    plt.plot(p['lon'], p['lat'], '^', markerfacecolor='r', markeredgecolor='r')     \n",
    "\n",
    "for idx, p in participants2018.iterrows():\n",
    "    waypoints = geod.npts(sanantonio[0], sanantonio[1], p['lon'], p['lat'], 20)\n",
    "    route = [sanantonio]\n",
    "    route.extend(waypoints)\n",
    "    route.append((p['lon'], p['lat']))\n",
    "    route = np.array(route)\n",
    "    if (route[:,0].max()-route[:,0].min())>180:\n",
    "        min_index = route[:,0].argmin()+1\n",
    "        plt.plot(route[:min_index,0], route[:min_index,1], color='r')\n",
    "        plt.plot(route[min_index:,0], route[min_index:,1], color='r')\n",
    "        continue\n",
    "    plt.plot(route[:,0], route[:,1], color='r')\n",
    "plt.plot(sanantonio[0],sanantonio[1],  '*', markerfacecolor='y', markeredgecolor='r', markersize=12)"
   ]
  },
  {
   "cell_type": "code",
   "execution_count": null,
   "metadata": {},
   "outputs": [],
   "source": [
    "import pandas as pd\n",
    "participants2018 = pd.read_csv('data/participants2018.csv',encoding='latin-1')\n",
    "from shapely.geometry import shape\n",
    "for feature in g['features']:\n",
    "    sf = shape(feature['geometry'])\n",
    "    if feature['geometry']['type'] == 'MultiPolygon':\n",
    "        for geom in sf.geoms:\n",
    "            plt.plot(*geom.exterior.xy, color='grey')\n",
    "    else:\n",
    "        plot(*sf.exterior.xy, color='grey')\n",
    "    \n",
    "for idx, p in participants2018.iterrows():\n",
    "    plt.plot(p['lon'], p['lat'], '^', markerfacecolor='r', markeredgecolor='r')     \n",
    "\n",
    "for idx, p in participants2018.iterrows():\n",
    "    waypoints = geod.npts(sanantonio[0], sanantonio[1], p['lon'], p['lat'], 20)\n",
    "    route = [sanantonio]\n",
    "    route.extend(waypoints)\n",
    "    route.append((p['lon'], p['lat']))\n",
    "    route = np.array(route)\n",
    "    if (route[:,0].max()-route[:,0].min())>180:\n",
    "        min_index = route[:,0].argmin()+1\n",
    "        plt.plot(route[:min_index,0], route[:min_index,1], color='r')\n",
    "        plt.plot(route[min_index:,0], route[min_index:,1], color='r')\n",
    "        continue\n",
    "    plt.plot(route[:,0], route[:,1], color='r')\n",
    "plt.plot(sanantonio[0],sanantonio[1],  '*', markerfacecolor='y', markeredgecolor='r', markersize=12)"
   ]
  },
  {
   "cell_type": "code",
   "execution_count": null,
   "metadata": {},
   "outputs": [],
   "source": [
    "import pandas as pd\n",
    "participants2018 = pd.read_csv('data/participants2018.csv',encoding='latin-1')\n",
    "from shapely.geometry import shape\n",
    "for feature in g['features']:\n",
    "    sf = shape(feature['geometry'])\n",
    "    if feature['geometry']['type'] == 'MultiPolygon':\n",
    "        for geom in sf.geoms:\n",
    "            plt.plot(*geom.exterior.xy, color='grey')\n",
    "    else:\n",
    "        plt.plot(*sf.exterior.xy, color='grey')\n",
    "    \n",
    "for idx, p in participants2018.iterrows():\n",
    "    plt.plot(p['lon'], p['lat'], '^', markerfacecolor='r', markeredgecolor='r')     \n",
    "\n",
    "for idx, p in participants2018.iterrows():\n",
    "    waypoints = geod.npts(sanantonio[0], sanantonio[1], p['lon'], p['lat'], 20)\n",
    "    route = [sanantonio]\n",
    "    route.extend(waypoints)\n",
    "    route.append((p['lon'], p['lat']))\n",
    "    route = np.array(route)\n",
    "    if (route[:,0].max()-route[:,0].min())>180:\n",
    "        min_index = route[:,0].argmin()+1\n",
    "        plt.plot(route[:min_index,0], route[:min_index,1], color='r')\n",
    "        plt.plot(route[min_index:,0], route[min_index:,1], color='r')\n",
    "        continue\n",
    "    plt.plot(route[:,0], route[:,1], color='r')\n",
    "plt.plot(sanantonio[0],sanantonio[1],  '*', markerfacecolor='y', markeredgecolor='r', markersize=12)\n",
    "plt.savefig(fname='../figs/readmefigs/routes18.png')"
   ]
  },
  {
   "cell_type": "markdown",
   "metadata": {},
   "source": [
    "### Plot the great circle routes bringing our participants to the workshop in 2016"
   ]
  },
  {
   "cell_type": "code",
   "execution_count": null,
   "metadata": {},
   "outputs": [],
   "source": [
    "import pandas as pd\n",
    "participants2016 = pd.read_csv('data/participants2016.csv',encoding='latin-1')\n",
    "minn = (-93.2550, 44.9778)\n",
    "from shapely.geometry import shape\n",
    "for feature in g['features']:\n",
    "    sf = shape(feature['geometry'])\n",
    "    if feature['geometry']['type'] == 'MultiPolygon':\n",
    "        for geom in sf.geoms:\n",
    "            plt.plot(*geom.exterior.xy, color='grey')\n",
    "    else:\n",
    "        plt.plot(*sf.exterior.xy, color='grey')\n",
    "    \n",
    "for idx, p in participants2016.iterrows():\n",
    "    plt.plot(p['lon'], p['lat'], 'o', markerfacecolor='b', markeredgecolor='b')     \n",
    "\n",
    "\n",
    "for idx, p in participants2016.iterrows():\n",
    "    waypoints = geod.npts(minn[0], minn[1], p['lon'], p['lat'], 20)\n",
    "    route = [minn]\n",
    "    route.extend(waypoints)\n",
    "    route.append((p['lon'], p['lat']))\n",
    "    route = np.array(route)\n",
    "    plt.plot(route[:,0], route[:,1], color='b')\n",
    "plt.plot(minn[0],minn[1],  '*', markerfacecolor='y', markeredgecolor='b', markersize=12)"
   ]
  },
  {
   "cell_type": "markdown",
   "metadata": {},
   "source": [
    "## Plot 2017 Participant Travel"
   ]
  },
  {
   "cell_type": "code",
   "execution_count": null,
   "metadata": {},
   "outputs": [],
   "source": [
    "import pandas as pd\n",
    "participants2017 = pd.read_csv('data/participants2017.csv',encoding='latin-1')\n",
    "vancouver = (-123.1207, 49.2827)\n",
    "\n",
    "\n",
    "from shapely.geometry import shape\n",
    "for feature in g['features']:\n",
    "    sf = shape(feature['geometry'])\n",
    "    if feature['geometry']['type'] == 'MultiPolygon':\n",
    "        for geom in sf.geoms:\n",
    "            plt.plot(*geom.exterior.xy, color='grey')\n",
    "    else:\n",
    "        plt.plot(*sf.exterior.xy, color='grey')\n",
    "    \n",
    "for idx, p in participants2017.iterrows():\n",
    "    plt.plot(p['lon'], p['lat'], 'o', markerfacecolor='r', markeredgecolor='r')     \n",
    "\n",
    "\n",
    "for idx, p in participants2017.iterrows():\n",
    "    waypoints = geod.npts(vancouver[0], vancouver[1], p['lon'], p['lat'], 20)\n",
    "    route = [vancouver]\n",
    "    route.extend(waypoints)\n",
    "    route.append((p['lon'], p['lat']))\n",
    "    route = np.array(route)\n",
    "    if (route[:,0].max()-route[:,0].min())>180:\n",
    "        min_index = route[:,0].argmin()+1\n",
    "        plt.plot(route[:min_index,0], route[:min_index,1], color='r')\n",
    "        plt.plot(route[min_index:,0], route[min_index:,1], color='r')\n",
    "        continue\n",
    "    plt.plot(route[:,0], route[:,1], color='r')\n",
    "plt.plot(vancouver[0],vancouver[1],  '*', markerfacecolor='y', markeredgecolor='r', markersize=12)"
   ]
  },
  {
   "cell_type": "code",
   "execution_count": null,
   "metadata": {},
   "outputs": [],
   "source": [
    "import pandas as pd\n",
    "participants2017 = pd.read_csv('data/participants2017.csv',encoding='latin-1')\n",
    "vancouver = (-123.1207, 49.2827)\n",
    "\n",
    "\n",
    "from shapely.geometry import shape\n",
    "for feature in g['features']:\n",
    "    sf = shape(feature['geometry'])\n",
    "    if feature['geometry']['type'] == 'MultiPolygon':\n",
    "        for geom in sf.geoms:\n",
    "           plt.plot(*geom.exterior.xy, color='grey')\n",
    "    else:\n",
    "        plt.plot(*sf.exterior.xy, color='grey')\n",
    "    \n",
    "for idx, p in participants2017.iterrows():\n",
    "    plt.plot(p['lon'], p['lat'], 'o', markerfacecolor='r', markeredgecolor='r')     \n",
    "\n",
    "\n",
    "for idx, p in participants2017.iterrows():\n",
    "    waypoints = geod.npts(vancouver[0], vancouver[1], p['lon'], p['lat'], 20)\n",
    "    route = [vancouver]\n",
    "    route.extend(waypoints)\n",
    "    route.append((p['lon'], p['lat']))\n",
    "    route = np.array(route)\n",
    "    if (route[:,0].max()-route[:,0].min())>180:\n",
    "        min_index = route[:,0].argmin()+1\n",
    "        plt.plot(route[:min_index,0], route[:min_index,1], color='r')\n",
    "        plt.plot(route[min_index:,0], route[min_index:,1], color='r')\n",
    "        continue\n",
    "    plt.plot(route[:,0], route[:,1], color='r')\n",
    "plt.plot(vancouver[0],vancouver[1],  '*', markerfacecolor='y', markeredgecolor='r', markersize=12)"
   ]
  },
  {
   "cell_type": "markdown",
   "metadata": {},
   "source": [
    "## Subplots"
   ]
  },
  {
   "cell_type": "code",
   "execution_count": null,
   "metadata": {},
   "outputs": [],
   "source": [
    "fig, axes = plt.subplots(2, 2)\n",
    "#axes[0, 0].plot(x, y)\n",
    "#axes[1, 1].scatter(x, y)\n",
    "for feature in g['features']:\n",
    "    sf = shape(feature['geometry'])\n",
    "    if feature['geometry']['type'] == 'MultiPolygon':\n",
    "        for geom in sf.geoms:\n",
    "            axes[0,0].plot(*geom.exterior.xy, color='grey')\n",
    "    else:\n",
    "        axes[0,0].plot(*sf.exterior.xy, color='grey')\n",
    "participants2016 = pd.read_csv('data/participants2016.csv',encoding='latin-1')\n",
    "    \n",
    "for idx, p in participants2016.iterrows():\n",
    "    axes[0,0].plot(p['lon'], p['lat'], 'o', markerfacecolor='b', markeredgecolor='b')     \n",
    "    \n",
    "for idx, p in participants2016.iterrows():\n",
    "    waypoints = geod.npts(minn[0], minn[1], p['lon'], p['lat'], 20)\n",
    "    route = [minn]\n",
    "    route.extend(waypoints)\n",
    "    route.append((p['lon'], p['lat']))\n",
    "    route = np.array(route)\n",
    "    axes[0,0].plot(route[:,0], route[:,1], color='b')\n",
    "    axes[0,0].title.set_text('2016')\n",
    "\n",
    "\n",
    "axes[0,0].axis('off')\n",
    "\n",
    "# 2017\n",
    "\n",
    "participants2017 = pd.read_csv('data/participants2017.csv', encoding='latin-1')\n",
    "\n",
    "vancouver = (-123.1207, 49.2827)\n",
    "\n",
    "\n",
    "from shapely.geometry import shape\n",
    "for feature in g['features']:\n",
    "    sf = shape(feature['geometry'])\n",
    "    if feature['geometry']['type'] == 'MultiPolygon':\n",
    "        for geom in sf.geoms:\n",
    "            axes[0,1].plot(*geom.exterior.xy, color='grey')\n",
    "    else:\n",
    "        axes[0,1].plot(*sf.exterior.xy, color='grey')\n",
    "    \n",
    "for idx, p in participants2017.iterrows():\n",
    "    axes[0,1].plot(p['lon'], p['lat'], 'o', markerfacecolor='r', markeredgecolor='r')     \n",
    "\n",
    "\n",
    "for idx, p in participants2017.iterrows():\n",
    "    waypoints = geod.npts(vancouver[0], vancouver[1], p['lon'], p['lat'], 20)\n",
    "    route = [vancouver]\n",
    "    route.extend(waypoints)\n",
    "    route.append((p['lon'], p['lat']))\n",
    "    route = np.array(route)\n",
    "    if (route[:,0].max()-route[:,0].min())>180:\n",
    "        min_index = route[:,0].argmin()+1\n",
    "        axes[0,1].plot(route[:min_index,0], route[:min_index,1], color='r')\n",
    "        axes[0,1].plot(route[min_index:,0], route[min_index:,1], color='r')\n",
    "        continue\n",
    "    axes[0,1].plot(route[:,0], route[:,1], color='r')\n",
    "    axes[0,1].title.set_text('2017')\n",
    "    axes[0,1].axis('off')\n",
    "\n",
    "\n",
    "# 2018\n",
    "\n",
    "for feature in g['features']:\n",
    "    sf = shape(feature['geometry'])\n",
    "    if feature['geometry']['type'] == 'MultiPolygon':\n",
    "        for geom in sf.geoms:\n",
    "            axes[1,0].plot(*geom.exterior.xy, color='grey')\n",
    "    else:\n",
    "        axes[1,0].plot(*sf.exterior.xy, color='grey')\n",
    "\n",
    "for idx, p in participants2018.iterrows():\n",
    "    waypoints = geod.npts(sanantonio[0], sanantonio[1], p['lon'], p['lat'], 20)\n",
    "    route = [sanantonio]\n",
    "    route.extend(waypoints)\n",
    "    route.append((p['lon'], p['lat']))\n",
    "    route = np.array(route)\n",
    "    if (route[:,0].max()-route[:,0].min())>180:\n",
    "        min_index = route[:,0].argmin()+1\n",
    "        axes[1,0].plot(route[:min_index,0], route[:min_index,1], color='g')\n",
    "        axes[1,0].plot(route[min_index:,0], route[min_index:,1], color='g')\n",
    "        continue\n",
    "    axes[1,0].plot(route[:,0], route[:,1], color='g')   \n",
    "    axes[1,0].title.set_text('2018')\n",
    "\n",
    "for idx, p in participants2018.iterrows():\n",
    "    axes[1,0].plot(p['lon'], p['lat'], 'o', markerfacecolor='g', markeredgecolor='g')     \n",
    "axes[1,0].axis('off')\n",
    "\n",
    "\n",
    "# all three years\n",
    "for feature in g['features']:\n",
    "    sf = shape(feature['geometry'])\n",
    "    if feature['geometry']['type'] == 'MultiPolygon':\n",
    "        for geom in sf.geoms:\n",
    "            axes[1,1].plot(*geom.exterior.xy, color='grey')\n",
    "    else:\n",
    "        axes[1,1].plot(*sf.exterior.xy, color='grey')\n",
    "    \n",
    "for idx, p in participants2016.iterrows():\n",
    "    axes[1,1].plot(p['lon'], p['lat'], 'o', markerfacecolor='b', markeredgecolor='b')     \n",
    "    \n",
    "for idx, p in participants2016.iterrows():\n",
    "    waypoints = geod.npts(minn[0], minn[1], p['lon'], p['lat'], 20)\n",
    "    route = [minn]\n",
    "    route.extend(waypoints)\n",
    "    route.append((p['lon'], p['lat']))\n",
    "    route = np.array(route)\n",
    "    axes[1,1].plot(route[:,0], route[:,1], color='b')\n",
    "\n",
    "    \n",
    "\n",
    "for idx, p in participants2017.iterrows():\n",
    "    axes[1,1].plot(p['lon'], p['lat'], 'o', markerfacecolor='r', markeredgecolor='r')     \n",
    "\n",
    "\n",
    "for idx, p in participants2017.iterrows():\n",
    "    waypoints = geod.npts(vancouver[0], vancouver[1], p['lon'], p['lat'], 20)\n",
    "    route = [vancouver]\n",
    "    route.extend(waypoints)\n",
    "    route.append((p['lon'], p['lat']))\n",
    "    route = np.array(route)\n",
    "    if (route[:,0].max()-route[:,0].min())>180:\n",
    "        min_index = route[:,0].argmin()+1\n",
    "        axes[1,1].plot(route[:min_index,0], route[:min_index,1], color='r')\n",
    "        axes[1,1].plot(route[min_index:,0], route[min_index:,1], color='r')\n",
    "        continue\n",
    "    axes[1,1].plot(route[:,0], route[:,1], color='r')   \n",
    "    \n",
    "\n",
    "    \n",
    " \n",
    "for idx, p in participants2018.iterrows():\n",
    "    waypoints = geod.npts(sanantonio[0], sanantonio[1], p['lon'], p['lat'], 20)\n",
    "    route = [sanantonio]\n",
    "    route.extend(waypoints)\n",
    "    route.append((p['lon'], p['lat']))\n",
    "    route = np.array(route)\n",
    "    if (route[:,0].max()-route[:,0].min())>180:\n",
    "        min_index = route[:,0].argmin()+1\n",
    "        axes[1,1].plot(route[:min_index,0], route[:min_index,1], color='g')\n",
    "        axes[1,1].plot(route[min_index:,0], route[min_index:,1], color='g')\n",
    "        continue\n",
    "    axes[1,1].plot(route[:,0], route[:,1], color='g')   \n",
    "    \n",
    "for idx, p in participants2018.iterrows():\n",
    "    axes[1,1].plot(p['lon'], p['lat'], 'o', markerfacecolor='g', markeredgecolor='g')   \n",
    "axes[1,1].title.set_text('2016-2018')\n",
    "\n",
    "axes[1,1].axis('off')\n",
    "\n",
    "\n",
    "\n",
    "\n",
    "fig.set_size_inches(18.5, 10.5, forward=True)\n",
    "plt.savefig(fname='quad.png')"
   ]
  },
  {
   "cell_type": "code",
   "execution_count": null,
   "metadata": {},
   "outputs": [],
   "source": []
  }
 ],
 "metadata": {
  "anaconda-cloud": {},
  "kernelspec": {
   "display_name": "Python 3",
   "language": "python",
   "name": "python3"
  },
  "language_info": {
   "codemirror_mode": {
    "name": "ipython",
    "version": 3
   },
   "file_extension": ".py",
   "mimetype": "text/x-python",
   "name": "python",
   "nbconvert_exporter": "python",
   "pygments_lexer": "ipython3",
   "version": "3.6.6"
  }
 },
 "nbformat": 4,
 "nbformat_minor": 2
}
